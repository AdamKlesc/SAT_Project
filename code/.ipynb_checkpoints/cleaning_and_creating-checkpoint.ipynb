{
 "cells": [
  {
   "cell_type": "code",
   "execution_count": 2,
   "id": "1825d0f3",
   "metadata": {},
   "outputs": [],
   "source": [
    "import numpy as np #Importing numpy aliasing it as NP\n",
    "import pandas as pd #Importing Pandas aliasing it as pd\n",
    "import matplotlib.pyplot as plt #Importing matplotlib aliasing it as plt\n",
    "act17 = pd.read_csv('../data/act_2017.csv', usecols=[0, 1, 6]) #Importing all the ACT and SAT datasets relevant to my research\n",
    "act18 = pd.read_csv('../data/act_2018.csv')\n",
    "act19 = pd.read_csv('../data/act_2019.csv')\n",
    "sat17 = pd.read_csv('../data/sat_2017.csv')\n",
    "sat18 = pd.read_csv('../data/sat_2018.csv')\n",
    "sat19 = pd.read_csv('../data/sat_2019.csv')"
   ]
  },
  {
   "cell_type": "markdown",
   "id": "a40fbb33",
   "metadata": {},
   "source": [
    "#### Displaying the data, ACT 17 has additional columns not included in ACT 18 and ACT 19 but the merging process should automatically remove them"
   ]
  },
  {
   "cell_type": "code",
   "execution_count": 3,
   "id": "c874a051",
   "metadata": {},
   "outputs": [
    {
     "data": {
      "text/html": [
       "<div>\n",
       "<style scoped>\n",
       "    .dataframe tbody tr th:only-of-type {\n",
       "        vertical-align: middle;\n",
       "    }\n",
       "\n",
       "    .dataframe tbody tr th {\n",
       "        vertical-align: top;\n",
       "    }\n",
       "\n",
       "    .dataframe thead th {\n",
       "        text-align: right;\n",
       "    }\n",
       "</style>\n",
       "<table border=\"1\" class=\"dataframe\">\n",
       "  <thead>\n",
       "    <tr style=\"text-align: right;\">\n",
       "      <th></th>\n",
       "      <th>State</th>\n",
       "      <th>Participation</th>\n",
       "      <th>Composite</th>\n",
       "    </tr>\n",
       "  </thead>\n",
       "  <tbody>\n",
       "    <tr>\n",
       "      <th>0</th>\n",
       "      <td>Alabama</td>\n",
       "      <td>100%</td>\n",
       "      <td>18.9</td>\n",
       "    </tr>\n",
       "    <tr>\n",
       "      <th>1</th>\n",
       "      <td>Alaska</td>\n",
       "      <td>38%</td>\n",
       "      <td>20.1</td>\n",
       "    </tr>\n",
       "    <tr>\n",
       "      <th>2</th>\n",
       "      <td>Arizona</td>\n",
       "      <td>73%</td>\n",
       "      <td>19.0</td>\n",
       "    </tr>\n",
       "    <tr>\n",
       "      <th>3</th>\n",
       "      <td>Arkansas</td>\n",
       "      <td>100%</td>\n",
       "      <td>19.3</td>\n",
       "    </tr>\n",
       "    <tr>\n",
       "      <th>4</th>\n",
       "      <td>California</td>\n",
       "      <td>23%</td>\n",
       "      <td>22.6</td>\n",
       "    </tr>\n",
       "  </tbody>\n",
       "</table>\n",
       "</div>"
      ],
      "text/plain": [
       "        State Participation  Composite\n",
       "0     Alabama          100%       18.9\n",
       "1      Alaska           38%       20.1\n",
       "2     Arizona           73%       19.0\n",
       "3    Arkansas          100%       19.3\n",
       "4  California           23%       22.6"
      ]
     },
     "execution_count": 3,
     "metadata": {},
     "output_type": "execute_result"
    }
   ],
   "source": [
    "act17.head() #Displaying ACT17 Data\n",
    "\n",
    "act18.head() #Displaying ACT18 Data\n",
    "\n",
    "act19.head() #Displaying ACT19 Data"
   ]
  },
  {
   "cell_type": "markdown",
   "id": "b6647986",
   "metadata": {},
   "source": [
    "#### Getting a rough sense of what each major ACT column has."
   ]
  },
  {
   "cell_type": "code",
   "execution_count": 4,
   "id": "eed43d6d",
   "metadata": {},
   "outputs": [
    {
     "data": {
      "text/plain": [
       "count         52\n",
       "unique        52\n",
       "top       Nevada\n",
       "freq           1\n",
       "Name: State, dtype: object"
      ]
     },
     "execution_count": 4,
     "metadata": {},
     "output_type": "execute_result"
    }
   ],
   "source": [
    "act17['Participation'].describe() \n",
    "\n",
    "act18['Participation'].describe()\n",
    "\n",
    "act19['Participation'].describe()\n",
    "\n",
    "act17['Composite'].describe()\n",
    "\n",
    "act18['Composite'].describe()\n",
    "\n",
    "act19['Composite'].describe()\n",
    "\n",
    "act17['State'].describe()\n",
    "\n",
    "act18['State'].describe()\n",
    "\n",
    "act19['State'].describe()"
   ]
  },
  {
   "cell_type": "code",
   "execution_count": 5,
   "id": "e23b8ace",
   "metadata": {},
   "outputs": [
    {
     "data": {
      "text/plain": [
       "0     False\n",
       "1     False\n",
       "2     False\n",
       "3     False\n",
       "4     False\n",
       "5     False\n",
       "6     False\n",
       "7     False\n",
       "8     False\n",
       "9     False\n",
       "10    False\n",
       "11    False\n",
       "12    False\n",
       "13    False\n",
       "14    False\n",
       "15    False\n",
       "16    False\n",
       "17    False\n",
       "18    False\n",
       "19    False\n",
       "20     True\n",
       "21    False\n",
       "22    False\n",
       "23    False\n",
       "24    False\n",
       "25    False\n",
       "26    False\n",
       "27    False\n",
       "28    False\n",
       "29    False\n",
       "30    False\n",
       "31    False\n",
       "32    False\n",
       "33    False\n",
       "34    False\n",
       "35    False\n",
       "36    False\n",
       "37    False\n",
       "38    False\n",
       "39    False\n",
       "40    False\n",
       "41    False\n",
       "42    False\n",
       "43    False\n",
       "44    False\n",
       "45    False\n",
       "46    False\n",
       "47    False\n",
       "48    False\n",
       "49    False\n",
       "50    False\n",
       "51    False\n",
       "dtype: bool"
      ]
     },
     "execution_count": 5,
     "metadata": {},
     "output_type": "execute_result"
    }
   ],
   "source": [
    "act17.duplicated(subset=['State'])\n",
    "\n",
    "act19.duplicated(subset=['State'])\n",
    "\n",
    "act18.duplicated(subset=['State'])"
   ]
  },
  {
   "cell_type": "markdown",
   "id": "af067733",
   "metadata": {},
   "source": [
    "#### Getting rid of the duplicate Maine. Making sure it doesn't have differing values first."
   ]
  },
  {
   "cell_type": "code",
   "execution_count": 6,
   "id": "7aab6a45",
   "metadata": {},
   "outputs": [
    {
     "data": {
      "text/html": [
       "<div>\n",
       "<style scoped>\n",
       "    .dataframe tbody tr th:only-of-type {\n",
       "        vertical-align: middle;\n",
       "    }\n",
       "\n",
       "    .dataframe tbody tr th {\n",
       "        vertical-align: top;\n",
       "    }\n",
       "\n",
       "    .dataframe thead th {\n",
       "        text-align: right;\n",
       "    }\n",
       "</style>\n",
       "<table border=\"1\" class=\"dataframe\">\n",
       "  <thead>\n",
       "    <tr style=\"text-align: right;\">\n",
       "      <th></th>\n",
       "      <th>State</th>\n",
       "      <th>Participation</th>\n",
       "      <th>Composite</th>\n",
       "    </tr>\n",
       "  </thead>\n",
       "  <tbody>\n",
       "    <tr>\n",
       "      <th>19</th>\n",
       "      <td>Maine</td>\n",
       "      <td>7%</td>\n",
       "      <td>24.0</td>\n",
       "    </tr>\n",
       "    <tr>\n",
       "      <th>20</th>\n",
       "      <td>Maine</td>\n",
       "      <td>7%</td>\n",
       "      <td>24.0</td>\n",
       "    </tr>\n",
       "  </tbody>\n",
       "</table>\n",
       "</div>"
      ],
      "text/plain": [
       "    State Participation  Composite\n",
       "19  Maine            7%       24.0\n",
       "20  Maine            7%       24.0"
      ]
     },
     "execution_count": 6,
     "metadata": {},
     "output_type": "execute_result"
    }
   ],
   "source": [
    "act18.loc[act18['State'] == 'Maine']"
   ]
  },
  {
   "cell_type": "code",
   "execution_count": 7,
   "id": "7d0a0fb6",
   "metadata": {},
   "outputs": [],
   "source": [
    "act18.drop([19], inplace = True)"
   ]
  },
  {
   "cell_type": "code",
   "execution_count": 8,
   "id": "496bd82e",
   "metadata": {},
   "outputs": [
    {
     "data": {
      "text/html": [
       "<div>\n",
       "<style scoped>\n",
       "    .dataframe tbody tr th:only-of-type {\n",
       "        vertical-align: middle;\n",
       "    }\n",
       "\n",
       "    .dataframe tbody tr th {\n",
       "        vertical-align: top;\n",
       "    }\n",
       "\n",
       "    .dataframe thead th {\n",
       "        text-align: right;\n",
       "    }\n",
       "</style>\n",
       "<table border=\"1\" class=\"dataframe\">\n",
       "  <thead>\n",
       "    <tr style=\"text-align: right;\">\n",
       "      <th></th>\n",
       "      <th>State</th>\n",
       "      <th>Participation</th>\n",
       "      <th>Composite</th>\n",
       "    </tr>\n",
       "  </thead>\n",
       "  <tbody>\n",
       "    <tr>\n",
       "      <th>20</th>\n",
       "      <td>Maine</td>\n",
       "      <td>7%</td>\n",
       "      <td>24.0</td>\n",
       "    </tr>\n",
       "  </tbody>\n",
       "</table>\n",
       "</div>"
      ],
      "text/plain": [
       "    State Participation  Composite\n",
       "20  Maine            7%       24.0"
      ]
     },
     "execution_count": 8,
     "metadata": {},
     "output_type": "execute_result"
    }
   ],
   "source": [
    "act18.loc[act18['State'] == 'Maine']"
   ]
  },
  {
   "cell_type": "markdown",
   "id": "dde87739",
   "metadata": {},
   "source": [
    "##### To maintain consistency, creating a national row for ACT 18 so that when I merge the ACT datasets, I'm not losing the National data from ACT17 and ACT19. If the nulls from this row interfere with the data or if I don't have any use for the national row, I will drop the row when analyzing the data."
   ]
  },
  {
   "cell_type": "code",
   "execution_count": 9,
   "id": "c1fa4d76",
   "metadata": {},
   "outputs": [],
   "source": [
    "dict_nat_18 = {'State': 'National', 'Participation': None, 'Composite': None}\n",
    "\n",
    "act18 = act18.append(dict_nat_18, ignore_index = True)"
   ]
  },
  {
   "cell_type": "markdown",
   "id": "fd256cb1",
   "metadata": {},
   "source": [
    "##### Renaming columns for the eventual merge, with the final two digits of the year seperating the columns apart"
   ]
  },
  {
   "cell_type": "code",
   "execution_count": 10,
   "id": "5ee57798",
   "metadata": {},
   "outputs": [],
   "source": [
    "act19.rename(columns = {'State':'state','Participation':'participation19', 'Composite': 'composite19'}, inplace = True)\n",
    "\n",
    "act18.rename(columns = {'State':'state','Participation':'participation18', 'Composite': 'composite18'}, inplace = True)\n",
    "\n",
    "act17.rename(columns = {'State':'state','Participation': 'participation17', 'Composite': 'composite17'}, inplace = True)\n",
    "\n",
    "act18['state'].replace({'District of columbia':'District of Columbia'}, inplace = True)"
   ]
  },
  {
   "cell_type": "markdown",
   "id": "78415b4d",
   "metadata": {},
   "source": [
    "Help with renaming columns: https://stackoverflow.com/questions/11346283/renaming-column-names-in-pandas"
   ]
  },
  {
   "cell_type": "markdown",
   "id": "eb9577e2",
   "metadata": {},
   "source": [
    "### Merging the three datasets into one ACT dataset with all the values I'm looking for."
   ]
  },
  {
   "cell_type": "code",
   "execution_count": 11,
   "id": "fab0a235",
   "metadata": {},
   "outputs": [],
   "source": [
    "acttotal = pd.merge(pd.merge(act17,act18,on='state'),act19,on='state')\n"
   ]
  },
  {
   "cell_type": "markdown",
   "id": "d374c604",
   "metadata": {},
   "source": [
    "Merge Help https://pandas.pydata.org/docs/reference/api/pandas.DataFrame.merge.html"
   ]
  },
  {
   "cell_type": "markdown",
   "id": "bad35ae2",
   "metadata": {},
   "source": [
    "##### Renaming all the columns before the merge to avoid any confusion once all the data is in one dataset"
   ]
  },
  {
   "cell_type": "code",
   "execution_count": 12,
   "id": "84b2a9e0",
   "metadata": {},
   "outputs": [
    {
     "data": {
      "text/html": [
       "<div>\n",
       "<style scoped>\n",
       "    .dataframe tbody tr th:only-of-type {\n",
       "        vertical-align: middle;\n",
       "    }\n",
       "\n",
       "    .dataframe tbody tr th {\n",
       "        vertical-align: top;\n",
       "    }\n",
       "\n",
       "    .dataframe thead th {\n",
       "        text-align: right;\n",
       "    }\n",
       "</style>\n",
       "<table border=\"1\" class=\"dataframe\">\n",
       "  <thead>\n",
       "    <tr style=\"text-align: right;\">\n",
       "      <th></th>\n",
       "      <th>state</th>\n",
       "      <th>participation17</th>\n",
       "      <th>ebrw17</th>\n",
       "      <th>math17</th>\n",
       "      <th>total17</th>\n",
       "    </tr>\n",
       "  </thead>\n",
       "  <tbody>\n",
       "    <tr>\n",
       "      <th>0</th>\n",
       "      <td>Alabama</td>\n",
       "      <td>5%</td>\n",
       "      <td>593</td>\n",
       "      <td>572</td>\n",
       "      <td>1165</td>\n",
       "    </tr>\n",
       "    <tr>\n",
       "      <th>1</th>\n",
       "      <td>Alaska</td>\n",
       "      <td>38%</td>\n",
       "      <td>547</td>\n",
       "      <td>533</td>\n",
       "      <td>1080</td>\n",
       "    </tr>\n",
       "    <tr>\n",
       "      <th>2</th>\n",
       "      <td>Arizona</td>\n",
       "      <td>30%</td>\n",
       "      <td>563</td>\n",
       "      <td>553</td>\n",
       "      <td>1116</td>\n",
       "    </tr>\n",
       "    <tr>\n",
       "      <th>3</th>\n",
       "      <td>Arkansas</td>\n",
       "      <td>3%</td>\n",
       "      <td>614</td>\n",
       "      <td>594</td>\n",
       "      <td>1208</td>\n",
       "    </tr>\n",
       "    <tr>\n",
       "      <th>4</th>\n",
       "      <td>California</td>\n",
       "      <td>53%</td>\n",
       "      <td>531</td>\n",
       "      <td>524</td>\n",
       "      <td>1055</td>\n",
       "    </tr>\n",
       "  </tbody>\n",
       "</table>\n",
       "</div>"
      ],
      "text/plain": [
       "        state participation17  ebrw17  math17  total17\n",
       "0     Alabama              5%     593     572     1165\n",
       "1      Alaska             38%     547     533     1080\n",
       "2     Arizona             30%     563     553     1116\n",
       "3    Arkansas              3%     614     594     1208\n",
       "4  California             53%     531     524     1055"
      ]
     },
     "execution_count": 12,
     "metadata": {},
     "output_type": "execute_result"
    }
   ],
   "source": [
    "sat17.rename(columns = {'State':'state','Participation': 'participation17', 'Evidence-Based Reading and Writing': 'ebrw17',\n",
    "                       'Math': 'math17', 'Total':'total17'}\n",
    "             , inplace = True)\n",
    "sat17.head()"
   ]
  },
  {
   "cell_type": "code",
   "execution_count": 13,
   "id": "bb0c86e7",
   "metadata": {},
   "outputs": [
    {
     "data": {
      "text/html": [
       "<div>\n",
       "<style scoped>\n",
       "    .dataframe tbody tr th:only-of-type {\n",
       "        vertical-align: middle;\n",
       "    }\n",
       "\n",
       "    .dataframe tbody tr th {\n",
       "        vertical-align: top;\n",
       "    }\n",
       "\n",
       "    .dataframe thead th {\n",
       "        text-align: right;\n",
       "    }\n",
       "</style>\n",
       "<table border=\"1\" class=\"dataframe\">\n",
       "  <thead>\n",
       "    <tr style=\"text-align: right;\">\n",
       "      <th></th>\n",
       "      <th>state</th>\n",
       "      <th>participation18</th>\n",
       "      <th>ebrw18</th>\n",
       "      <th>math18</th>\n",
       "      <th>total18</th>\n",
       "    </tr>\n",
       "  </thead>\n",
       "  <tbody>\n",
       "    <tr>\n",
       "      <th>0</th>\n",
       "      <td>Alabama</td>\n",
       "      <td>6%</td>\n",
       "      <td>595</td>\n",
       "      <td>571</td>\n",
       "      <td>1166</td>\n",
       "    </tr>\n",
       "    <tr>\n",
       "      <th>1</th>\n",
       "      <td>Alaska</td>\n",
       "      <td>43%</td>\n",
       "      <td>562</td>\n",
       "      <td>544</td>\n",
       "      <td>1106</td>\n",
       "    </tr>\n",
       "    <tr>\n",
       "      <th>2</th>\n",
       "      <td>Arizona</td>\n",
       "      <td>29%</td>\n",
       "      <td>577</td>\n",
       "      <td>572</td>\n",
       "      <td>1149</td>\n",
       "    </tr>\n",
       "    <tr>\n",
       "      <th>3</th>\n",
       "      <td>Arkansas</td>\n",
       "      <td>5%</td>\n",
       "      <td>592</td>\n",
       "      <td>576</td>\n",
       "      <td>1169</td>\n",
       "    </tr>\n",
       "    <tr>\n",
       "      <th>4</th>\n",
       "      <td>California</td>\n",
       "      <td>60%</td>\n",
       "      <td>540</td>\n",
       "      <td>536</td>\n",
       "      <td>1076</td>\n",
       "    </tr>\n",
       "  </tbody>\n",
       "</table>\n",
       "</div>"
      ],
      "text/plain": [
       "        state participation18  ebrw18  math18  total18\n",
       "0     Alabama              6%     595     571     1166\n",
       "1      Alaska             43%     562     544     1106\n",
       "2     Arizona             29%     577     572     1149\n",
       "3    Arkansas              5%     592     576     1169\n",
       "4  California             60%     540     536     1076"
      ]
     },
     "execution_count": 13,
     "metadata": {},
     "output_type": "execute_result"
    }
   ],
   "source": [
    "sat18.rename(columns = {'State':'state', 'Participation': 'participation18', 'Evidence-Based Reading and Writing': 'ebrw18',\n",
    "                       'Math': 'math18', 'Total':'total18'}\n",
    "             , inplace = True)\n",
    "sat18.head()"
   ]
  },
  {
   "cell_type": "code",
   "execution_count": 14,
   "id": "0151aac3",
   "metadata": {},
   "outputs": [
    {
     "data": {
      "text/html": [
       "<div>\n",
       "<style scoped>\n",
       "    .dataframe tbody tr th:only-of-type {\n",
       "        vertical-align: middle;\n",
       "    }\n",
       "\n",
       "    .dataframe tbody tr th {\n",
       "        vertical-align: top;\n",
       "    }\n",
       "\n",
       "    .dataframe thead th {\n",
       "        text-align: right;\n",
       "    }\n",
       "</style>\n",
       "<table border=\"1\" class=\"dataframe\">\n",
       "  <thead>\n",
       "    <tr style=\"text-align: right;\">\n",
       "      <th></th>\n",
       "      <th>state</th>\n",
       "      <th>participation19</th>\n",
       "      <th>ebrw19</th>\n",
       "      <th>math19</th>\n",
       "      <th>total19</th>\n",
       "    </tr>\n",
       "  </thead>\n",
       "  <tbody>\n",
       "    <tr>\n",
       "      <th>0</th>\n",
       "      <td>Alabama</td>\n",
       "      <td>7%</td>\n",
       "      <td>583</td>\n",
       "      <td>560</td>\n",
       "      <td>1143</td>\n",
       "    </tr>\n",
       "    <tr>\n",
       "      <th>1</th>\n",
       "      <td>Alaska</td>\n",
       "      <td>41%</td>\n",
       "      <td>556</td>\n",
       "      <td>541</td>\n",
       "      <td>1097</td>\n",
       "    </tr>\n",
       "    <tr>\n",
       "      <th>2</th>\n",
       "      <td>Arizona</td>\n",
       "      <td>31%</td>\n",
       "      <td>569</td>\n",
       "      <td>565</td>\n",
       "      <td>1134</td>\n",
       "    </tr>\n",
       "    <tr>\n",
       "      <th>3</th>\n",
       "      <td>Arkansas</td>\n",
       "      <td>6%</td>\n",
       "      <td>582</td>\n",
       "      <td>559</td>\n",
       "      <td>1141</td>\n",
       "    </tr>\n",
       "    <tr>\n",
       "      <th>4</th>\n",
       "      <td>California</td>\n",
       "      <td>63%</td>\n",
       "      <td>534</td>\n",
       "      <td>531</td>\n",
       "      <td>1065</td>\n",
       "    </tr>\n",
       "  </tbody>\n",
       "</table>\n",
       "</div>"
      ],
      "text/plain": [
       "        state participation19  ebrw19  math19  total19\n",
       "0     Alabama              7%     583     560     1143\n",
       "1      Alaska             41%     556     541     1097\n",
       "2     Arizona             31%     569     565     1134\n",
       "3    Arkansas              6%     582     559     1141\n",
       "4  California             63%     534     531     1065"
      ]
     },
     "execution_count": 14,
     "metadata": {},
     "output_type": "execute_result"
    }
   ],
   "source": [
    "sat19.rename(columns = {'State':'state', 'Participation Rate': 'participation19', 'EBRW': 'ebrw19',\n",
    "                       'Math': 'math19', 'Total':'total19'}\n",
    "             , inplace = True)\n",
    "sat19.head()"
   ]
  },
  {
   "cell_type": "markdown",
   "id": "bffb51cf",
   "metadata": {},
   "source": [
    "##### Creating numpy arrays for the SAT and ACT states"
   ]
  },
  {
   "cell_type": "code",
   "execution_count": 15,
   "id": "928018f2",
   "metadata": {},
   "outputs": [
    {
     "data": {
      "text/plain": [
       "array(['Alabama', 'Alaska', 'Arizona', 'Arkansas', 'California',\n",
       "       'Colorado', 'Connecticut', 'Delaware', 'District of Columbia',\n",
       "       'Florida', 'Georgia', 'Hawaii', 'Idaho', 'Illinois', 'Indiana',\n",
       "       'Iowa', 'Kansas', 'Kentucky', 'Louisiana', 'Maine', 'Maryland',\n",
       "       'Massachusetts', 'Michigan', 'Minnesota', 'Mississippi',\n",
       "       'Missouri', 'Montana', 'National', 'Nebraska', 'Nevada',\n",
       "       'New Hampshire', 'New Jersey', 'New Mexico', 'New York',\n",
       "       'North Carolina', 'North Dakota', 'Ohio', 'Oklahoma', 'Oregon',\n",
       "       'Pennsylvania', 'Rhode Island', 'South Carolina', 'South Dakota',\n",
       "       'Tennessee', 'Texas', 'Utah', 'Vermont', 'Virginia', 'Washington',\n",
       "       'West Virginia', 'Wisconsin', 'Wyoming'], dtype=object)"
      ]
     },
     "execution_count": 15,
     "metadata": {},
     "output_type": "execute_result"
    }
   ],
   "source": [
    "states19sat = sat19['state'].sort_values().values\n",
    "states17sat = sat17['state'].sort_values().values\n",
    "states18sat = sat18['state'].sort_values().values\n",
    "states17act = act17['state'].sort_values().values\n",
    "states18act = act18['state'].sort_values().values\n",
    "states19act = act19['state'].sort_values().values\n",
    "states18act"
   ]
  },
  {
   "cell_type": "markdown",
   "id": "fa0b7b4f",
   "metadata": {},
   "source": [
    "##### Creating a variable with all the states in ACTTotal and the 50 states needed for the analysis. Just to make sure the SAT datasets will remain consistent with the ACT datasets. "
   ]
  },
  {
   "cell_type": "code",
   "execution_count": 16,
   "id": "60ef2f8a",
   "metadata": {},
   "outputs": [
    {
     "data": {
      "text/plain": [
       "array(['Alabama', 'Alaska', 'Arizona', 'Arkansas', 'California',\n",
       "       'Colorado', 'Connecticut', 'Delaware', 'District of Columbia',\n",
       "       'Florida', 'Georgia', 'Hawaii', 'Idaho', 'Illinois', 'Indiana',\n",
       "       'Iowa', 'Kansas', 'Kentucky', 'Louisiana', 'Maine', 'Maryland',\n",
       "       'Massachusetts', 'Michigan', 'Minnesota', 'Mississippi',\n",
       "       'Missouri', 'Montana', 'National', 'Nebraska', 'Nevada',\n",
       "       'New Hampshire', 'New Jersey', 'New Mexico', 'New York',\n",
       "       'North Carolina', 'North Dakota', 'Ohio', 'Oklahoma', 'Oregon',\n",
       "       'Pennsylvania', 'Rhode Island', 'South Carolina', 'South Dakota',\n",
       "       'Tennessee', 'Texas', 'Utah', 'Vermont', 'Virginia', 'Washington',\n",
       "       'West Virginia', 'Wisconsin', 'Wyoming'], dtype=object)"
      ]
     },
     "execution_count": 16,
     "metadata": {},
     "output_type": "execute_result"
    }
   ],
   "source": [
    "acttotalstates = acttotal['state'].sort_values().values\n",
    "acttotalstates"
   ]
  },
  {
   "cell_type": "code",
   "execution_count": 17,
   "id": "d8521f37",
   "metadata": {},
   "outputs": [],
   "source": [
    "def state_excluded(states):\n",
    "    lst = []\n",
    "    for state in states:\n",
    "        if state not in acttotalstates:\n",
    "            lst.append(state)\n",
    "    print(lst)"
   ]
  },
  {
   "cell_type": "markdown",
   "id": "329bf430",
   "metadata": {},
   "source": [
    "##### Discovering potential duplicates in the SAT datasets and discovering what states will be excluded from the analysis because the ACT datasets might not have them."
   ]
  },
  {
   "cell_type": "code",
   "execution_count": 18,
   "id": "0a008656",
   "metadata": {},
   "outputs": [
    {
     "data": {
      "text/plain": [
       "0     False\n",
       "1     False\n",
       "2     False\n",
       "3     False\n",
       "4     False\n",
       "5     False\n",
       "6     False\n",
       "7     False\n",
       "8     False\n",
       "9     False\n",
       "10    False\n",
       "11    False\n",
       "12    False\n",
       "13    False\n",
       "14    False\n",
       "15    False\n",
       "16    False\n",
       "17    False\n",
       "18    False\n",
       "19    False\n",
       "20    False\n",
       "21    False\n",
       "22    False\n",
       "23    False\n",
       "24    False\n",
       "25    False\n",
       "26    False\n",
       "27    False\n",
       "28    False\n",
       "29    False\n",
       "30    False\n",
       "31    False\n",
       "32    False\n",
       "33    False\n",
       "34    False\n",
       "35    False\n",
       "36    False\n",
       "37    False\n",
       "38    False\n",
       "39    False\n",
       "40    False\n",
       "41    False\n",
       "42    False\n",
       "43    False\n",
       "44    False\n",
       "45    False\n",
       "46    False\n",
       "47    False\n",
       "48    False\n",
       "49    False\n",
       "50    False\n",
       "dtype: bool"
      ]
     },
     "execution_count": 18,
     "metadata": {},
     "output_type": "execute_result"
    }
   ],
   "source": [
    "sat19.duplicated(subset=['state'])\n",
    "\n",
    "sat18.duplicated(subset=['state'])\n",
    "\n",
    "sat17.duplicated(subset=['state'])"
   ]
  },
  {
   "cell_type": "markdown",
   "id": "36ca5ae2",
   "metadata": {},
   "source": [
    "##### Because SAT 19 is the only dataset with the Virgin Islands and Puerto Rico, it's relatively easy to leave them off because it wouldn't affect any other SAT dataset. It will be automatically left out when we're doing the merge"
   ]
  },
  {
   "cell_type": "code",
   "execution_count": 19,
   "id": "cf8cfed1",
   "metadata": {},
   "outputs": [
    {
     "name": "stdout",
     "output_type": "stream",
     "text": [
      "['Puerto Rico', 'Virgin Islands']\n"
     ]
    }
   ],
   "source": [
    "state_excluded(states19sat)"
   ]
  },
  {
   "cell_type": "code",
   "execution_count": 20,
   "id": "00a8c070",
   "metadata": {},
   "outputs": [
    {
     "name": "stdout",
     "output_type": "stream",
     "text": [
      "[]\n"
     ]
    }
   ],
   "source": [
    "state_excluded(states18sat)"
   ]
  },
  {
   "cell_type": "code",
   "execution_count": 21,
   "id": "65e08c16",
   "metadata": {},
   "outputs": [
    {
     "name": "stdout",
     "output_type": "stream",
     "text": [
      "[]\n"
     ]
    }
   ],
   "source": [
    "state_excluded(states17sat)"
   ]
  },
  {
   "cell_type": "markdown",
   "id": "91fa8886",
   "metadata": {},
   "source": [
    "### The actual merge itself of the SAT datasets"
   ]
  },
  {
   "cell_type": "code",
   "execution_count": 22,
   "id": "1b273768",
   "metadata": {},
   "outputs": [],
   "source": [
    "sattotal = pd.merge(pd.merge(sat17,sat18,on='state'),sat19,on='state')"
   ]
  },
  {
   "cell_type": "markdown",
   "id": "eafdadab",
   "metadata": {},
   "source": [
    "##### Making sure everything in the dataset is in order and everything is fine post-merge"
   ]
  },
  {
   "cell_type": "code",
   "execution_count": 23,
   "id": "da2c4a86",
   "metadata": {},
   "outputs": [
    {
     "data": {
      "text/html": [
       "<div>\n",
       "<style scoped>\n",
       "    .dataframe tbody tr th:only-of-type {\n",
       "        vertical-align: middle;\n",
       "    }\n",
       "\n",
       "    .dataframe tbody tr th {\n",
       "        vertical-align: top;\n",
       "    }\n",
       "\n",
       "    .dataframe thead th {\n",
       "        text-align: right;\n",
       "    }\n",
       "</style>\n",
       "<table border=\"1\" class=\"dataframe\">\n",
       "  <thead>\n",
       "    <tr style=\"text-align: right;\">\n",
       "      <th></th>\n",
       "      <th>state</th>\n",
       "      <th>participation17</th>\n",
       "      <th>ebrw17</th>\n",
       "      <th>math17</th>\n",
       "      <th>total17</th>\n",
       "      <th>participation18</th>\n",
       "      <th>ebrw18</th>\n",
       "      <th>math18</th>\n",
       "      <th>total18</th>\n",
       "      <th>participation19</th>\n",
       "      <th>ebrw19</th>\n",
       "      <th>math19</th>\n",
       "      <th>total19</th>\n",
       "    </tr>\n",
       "  </thead>\n",
       "  <tbody>\n",
       "    <tr>\n",
       "      <th>0</th>\n",
       "      <td>Alabama</td>\n",
       "      <td>5%</td>\n",
       "      <td>593</td>\n",
       "      <td>572</td>\n",
       "      <td>1165</td>\n",
       "      <td>6%</td>\n",
       "      <td>595</td>\n",
       "      <td>571</td>\n",
       "      <td>1166</td>\n",
       "      <td>7%</td>\n",
       "      <td>583</td>\n",
       "      <td>560</td>\n",
       "      <td>1143</td>\n",
       "    </tr>\n",
       "    <tr>\n",
       "      <th>1</th>\n",
       "      <td>Alaska</td>\n",
       "      <td>38%</td>\n",
       "      <td>547</td>\n",
       "      <td>533</td>\n",
       "      <td>1080</td>\n",
       "      <td>43%</td>\n",
       "      <td>562</td>\n",
       "      <td>544</td>\n",
       "      <td>1106</td>\n",
       "      <td>41%</td>\n",
       "      <td>556</td>\n",
       "      <td>541</td>\n",
       "      <td>1097</td>\n",
       "    </tr>\n",
       "    <tr>\n",
       "      <th>2</th>\n",
       "      <td>Arizona</td>\n",
       "      <td>30%</td>\n",
       "      <td>563</td>\n",
       "      <td>553</td>\n",
       "      <td>1116</td>\n",
       "      <td>29%</td>\n",
       "      <td>577</td>\n",
       "      <td>572</td>\n",
       "      <td>1149</td>\n",
       "      <td>31%</td>\n",
       "      <td>569</td>\n",
       "      <td>565</td>\n",
       "      <td>1134</td>\n",
       "    </tr>\n",
       "    <tr>\n",
       "      <th>3</th>\n",
       "      <td>Arkansas</td>\n",
       "      <td>3%</td>\n",
       "      <td>614</td>\n",
       "      <td>594</td>\n",
       "      <td>1208</td>\n",
       "      <td>5%</td>\n",
       "      <td>592</td>\n",
       "      <td>576</td>\n",
       "      <td>1169</td>\n",
       "      <td>6%</td>\n",
       "      <td>582</td>\n",
       "      <td>559</td>\n",
       "      <td>1141</td>\n",
       "    </tr>\n",
       "    <tr>\n",
       "      <th>4</th>\n",
       "      <td>California</td>\n",
       "      <td>53%</td>\n",
       "      <td>531</td>\n",
       "      <td>524</td>\n",
       "      <td>1055</td>\n",
       "      <td>60%</td>\n",
       "      <td>540</td>\n",
       "      <td>536</td>\n",
       "      <td>1076</td>\n",
       "      <td>63%</td>\n",
       "      <td>534</td>\n",
       "      <td>531</td>\n",
       "      <td>1065</td>\n",
       "    </tr>\n",
       "  </tbody>\n",
       "</table>\n",
       "</div>"
      ],
      "text/plain": [
       "        state participation17  ebrw17  math17  total17 participation18  \\\n",
       "0     Alabama              5%     593     572     1165              6%   \n",
       "1      Alaska             38%     547     533     1080             43%   \n",
       "2     Arizona             30%     563     553     1116             29%   \n",
       "3    Arkansas              3%     614     594     1208              5%   \n",
       "4  California             53%     531     524     1055             60%   \n",
       "\n",
       "   ebrw18  math18  total18 participation19  ebrw19  math19  total19  \n",
       "0     595     571     1166              7%     583     560     1143  \n",
       "1     562     544     1106             41%     556     541     1097  \n",
       "2     577     572     1149             31%     569     565     1134  \n",
       "3     592     576     1169              6%     582     559     1141  \n",
       "4     540     536     1076             63%     534     531     1065  "
      ]
     },
     "execution_count": 23,
     "metadata": {},
     "output_type": "execute_result"
    }
   ],
   "source": [
    "sattotal.head()"
   ]
  },
  {
   "cell_type": "code",
   "execution_count": 24,
   "id": "6b1575a0",
   "metadata": {},
   "outputs": [
    {
     "data": {
      "text/plain": [
       "0     False\n",
       "1     False\n",
       "2     False\n",
       "3     False\n",
       "4     False\n",
       "5     False\n",
       "6     False\n",
       "7     False\n",
       "8     False\n",
       "9     False\n",
       "10    False\n",
       "11    False\n",
       "12    False\n",
       "13    False\n",
       "14    False\n",
       "15    False\n",
       "16    False\n",
       "17    False\n",
       "18    False\n",
       "19    False\n",
       "20    False\n",
       "21    False\n",
       "22    False\n",
       "23    False\n",
       "24    False\n",
       "25    False\n",
       "26    False\n",
       "27    False\n",
       "28    False\n",
       "29    False\n",
       "30    False\n",
       "31    False\n",
       "32    False\n",
       "33    False\n",
       "34    False\n",
       "35    False\n",
       "36    False\n",
       "37    False\n",
       "38    False\n",
       "39    False\n",
       "40    False\n",
       "41    False\n",
       "42    False\n",
       "43    False\n",
       "44    False\n",
       "45    False\n",
       "46    False\n",
       "47    False\n",
       "48    False\n",
       "49    False\n",
       "50    False\n",
       "51    False\n",
       "dtype: bool"
      ]
     },
     "execution_count": 24,
     "metadata": {},
     "output_type": "execute_result"
    }
   ],
   "source": [
    "acttotal.duplicated(subset=['state'])"
   ]
  },
  {
   "cell_type": "code",
   "execution_count": 25,
   "id": "9841b4b1",
   "metadata": {},
   "outputs": [
    {
     "data": {
      "text/plain": [
       "0     False\n",
       "1     False\n",
       "2     False\n",
       "3     False\n",
       "4     False\n",
       "5     False\n",
       "6     False\n",
       "7     False\n",
       "8     False\n",
       "9     False\n",
       "10    False\n",
       "11    False\n",
       "12    False\n",
       "13    False\n",
       "14    False\n",
       "15    False\n",
       "16    False\n",
       "17    False\n",
       "18    False\n",
       "19    False\n",
       "20    False\n",
       "21    False\n",
       "22    False\n",
       "23    False\n",
       "24    False\n",
       "25    False\n",
       "26    False\n",
       "27    False\n",
       "28    False\n",
       "29    False\n",
       "30    False\n",
       "31    False\n",
       "32    False\n",
       "33    False\n",
       "34    False\n",
       "35    False\n",
       "36    False\n",
       "37    False\n",
       "38    False\n",
       "39    False\n",
       "40    False\n",
       "41    False\n",
       "42    False\n",
       "43    False\n",
       "44    False\n",
       "45    False\n",
       "46    False\n",
       "47    False\n",
       "48    False\n",
       "49    False\n",
       "50    False\n",
       "dtype: bool"
      ]
     },
     "execution_count": 25,
     "metadata": {},
     "output_type": "execute_result"
    }
   ],
   "source": [
    "sattotal.duplicated(subset=['state'])"
   ]
  },
  {
   "cell_type": "code",
   "execution_count": 26,
   "id": "d6a29ea5",
   "metadata": {},
   "outputs": [
    {
     "data": {
      "text/html": [
       "<div>\n",
       "<style scoped>\n",
       "    .dataframe tbody tr th:only-of-type {\n",
       "        vertical-align: middle;\n",
       "    }\n",
       "\n",
       "    .dataframe tbody tr th {\n",
       "        vertical-align: top;\n",
       "    }\n",
       "\n",
       "    .dataframe thead th {\n",
       "        text-align: right;\n",
       "    }\n",
       "</style>\n",
       "<table border=\"1\" class=\"dataframe\">\n",
       "  <thead>\n",
       "    <tr style=\"text-align: right;\">\n",
       "      <th></th>\n",
       "      <th>state</th>\n",
       "      <th>participation17</th>\n",
       "      <th>composite17</th>\n",
       "      <th>participation18</th>\n",
       "      <th>composite18</th>\n",
       "      <th>participation19</th>\n",
       "      <th>composite19</th>\n",
       "    </tr>\n",
       "  </thead>\n",
       "  <tbody>\n",
       "    <tr>\n",
       "      <th>0</th>\n",
       "      <td>National</td>\n",
       "      <td>60%</td>\n",
       "      <td>21.0</td>\n",
       "      <td>None</td>\n",
       "      <td>NaN</td>\n",
       "      <td>52%</td>\n",
       "      <td>20.7</td>\n",
       "    </tr>\n",
       "    <tr>\n",
       "      <th>1</th>\n",
       "      <td>Alabama</td>\n",
       "      <td>100%</td>\n",
       "      <td>19.2</td>\n",
       "      <td>100%</td>\n",
       "      <td>19.1</td>\n",
       "      <td>100%</td>\n",
       "      <td>18.9</td>\n",
       "    </tr>\n",
       "    <tr>\n",
       "      <th>2</th>\n",
       "      <td>Alaska</td>\n",
       "      <td>65%</td>\n",
       "      <td>19.8</td>\n",
       "      <td>33%</td>\n",
       "      <td>20.8</td>\n",
       "      <td>38%</td>\n",
       "      <td>20.1</td>\n",
       "    </tr>\n",
       "    <tr>\n",
       "      <th>3</th>\n",
       "      <td>Arizona</td>\n",
       "      <td>62%</td>\n",
       "      <td>19.7</td>\n",
       "      <td>66%</td>\n",
       "      <td>19.2</td>\n",
       "      <td>73%</td>\n",
       "      <td>19.0</td>\n",
       "    </tr>\n",
       "    <tr>\n",
       "      <th>4</th>\n",
       "      <td>Arkansas</td>\n",
       "      <td>100%</td>\n",
       "      <td>19.4</td>\n",
       "      <td>100%</td>\n",
       "      <td>19.4</td>\n",
       "      <td>100%</td>\n",
       "      <td>19.3</td>\n",
       "    </tr>\n",
       "  </tbody>\n",
       "</table>\n",
       "</div>"
      ],
      "text/plain": [
       "      state participation17 composite17 participation18  composite18  \\\n",
       "0  National             60%        21.0            None          NaN   \n",
       "1   Alabama            100%        19.2            100%         19.1   \n",
       "2    Alaska             65%        19.8             33%         20.8   \n",
       "3   Arizona             62%        19.7             66%         19.2   \n",
       "4  Arkansas            100%        19.4            100%         19.4   \n",
       "\n",
       "  participation19  composite19  \n",
       "0             52%         20.7  \n",
       "1            100%         18.9  \n",
       "2             38%         20.1  \n",
       "3             73%         19.0  \n",
       "4            100%         19.3  "
      ]
     },
     "execution_count": 26,
     "metadata": {},
     "output_type": "execute_result"
    }
   ],
   "source": [
    "acttotal.head()"
   ]
  },
  {
   "cell_type": "code",
   "execution_count": 27,
   "id": "ec0fe182",
   "metadata": {},
   "outputs": [
    {
     "data": {
      "text/plain": [
       "(51, 13)"
      ]
     },
     "execution_count": 27,
     "metadata": {},
     "output_type": "execute_result"
    }
   ],
   "source": [
    "acttotal.shape\n",
    "sattotal.shape"
   ]
  },
  {
   "cell_type": "code",
   "execution_count": 28,
   "id": "ddcdc0d7",
   "metadata": {},
   "outputs": [
    {
     "data": {
      "text/plain": [
       "state               object\n",
       "participation17     object\n",
       "composite17         object\n",
       "participation18     object\n",
       "composite18        float64\n",
       "participation19     object\n",
       "composite19        float64\n",
       "dtype: object"
      ]
     },
     "execution_count": 28,
     "metadata": {},
     "output_type": "execute_result"
    }
   ],
   "source": [
    "acttotal.dtypes"
   ]
  },
  {
   "cell_type": "code",
   "execution_count": 29,
   "id": "dbaa25a6",
   "metadata": {},
   "outputs": [
    {
     "data": {
      "text/plain": [
       "state              object\n",
       "participation17    object\n",
       "ebrw17              int64\n",
       "math17              int64\n",
       "total17             int64\n",
       "participation18    object\n",
       "ebrw18              int64\n",
       "math18              int64\n",
       "total18             int64\n",
       "participation19    object\n",
       "ebrw19              int64\n",
       "math19              int64\n",
       "total19             int64\n",
       "dtype: object"
      ]
     },
     "execution_count": 29,
     "metadata": {},
     "output_type": "execute_result"
    }
   ],
   "source": [
    "sattotal.dtypes"
   ]
  },
  {
   "cell_type": "markdown",
   "id": "c70a02ee",
   "metadata": {},
   "source": [
    "#### Converting all the percentages into floats"
   ]
  },
  {
   "cell_type": "code",
   "execution_count": 30,
   "id": "f5531c0a",
   "metadata": {},
   "outputs": [],
   "source": [
    "def to_percent(x, y):\n",
    "    return x[y].str.rstrip('%').astype('float') / 100.0"
   ]
  },
  {
   "cell_type": "code",
   "execution_count": 31,
   "id": "8f08e8cc",
   "metadata": {},
   "outputs": [
    {
     "data": {
      "text/plain": [
       "state               object\n",
       "participation17    float64\n",
       "composite17         object\n",
       "participation18    float64\n",
       "composite18        float64\n",
       "participation19    float64\n",
       "composite19        float64\n",
       "dtype: object"
      ]
     },
     "execution_count": 31,
     "metadata": {},
     "output_type": "execute_result"
    }
   ],
   "source": [
    "acttotal['participation19'] = to_percent(acttotal, 'participation19')\n",
    "acttotal['participation18'] = to_percent(acttotal, 'participation18')\n",
    "acttotal['participation17'] = to_percent(acttotal, 'participation17')\n",
    "acttotal.dtypes"
   ]
  },
  {
   "cell_type": "code",
   "execution_count": 32,
   "id": "ba166490",
   "metadata": {},
   "outputs": [
    {
     "data": {
      "text/plain": [
       "state               object\n",
       "participation17    float64\n",
       "ebrw17               int64\n",
       "math17               int64\n",
       "total17              int64\n",
       "participation18    float64\n",
       "ebrw18               int64\n",
       "math18               int64\n",
       "total18              int64\n",
       "participation19    float64\n",
       "ebrw19               int64\n",
       "math19               int64\n",
       "total19              int64\n",
       "dtype: object"
      ]
     },
     "execution_count": 32,
     "metadata": {},
     "output_type": "execute_result"
    }
   ],
   "source": [
    "sattotal['participation19'] = to_percent(sattotal, 'participation19')\n",
    "sattotal['participation18'] = to_percent(sattotal, 'participation18')\n",
    "sattotal['participation17'] = to_percent(sattotal, 'participation17')\n",
    "sattotal.dtypes"
   ]
  },
  {
   "cell_type": "code",
   "execution_count": 33,
   "id": "ac03a815",
   "metadata": {},
   "outputs": [
    {
     "data": {
      "text/html": [
       "<div>\n",
       "<style scoped>\n",
       "    .dataframe tbody tr th:only-of-type {\n",
       "        vertical-align: middle;\n",
       "    }\n",
       "\n",
       "    .dataframe tbody tr th {\n",
       "        vertical-align: top;\n",
       "    }\n",
       "\n",
       "    .dataframe thead th {\n",
       "        text-align: right;\n",
       "    }\n",
       "</style>\n",
       "<table border=\"1\" class=\"dataframe\">\n",
       "  <thead>\n",
       "    <tr style=\"text-align: right;\">\n",
       "      <th></th>\n",
       "      <th>state</th>\n",
       "      <th>participation17</th>\n",
       "      <th>composite17</th>\n",
       "      <th>participation18</th>\n",
       "      <th>composite18</th>\n",
       "      <th>participation19</th>\n",
       "      <th>composite19</th>\n",
       "    </tr>\n",
       "  </thead>\n",
       "  <tbody>\n",
       "    <tr>\n",
       "      <th>0</th>\n",
       "      <td>National</td>\n",
       "      <td>0.60</td>\n",
       "      <td>21.0</td>\n",
       "      <td>NaN</td>\n",
       "      <td>NaN</td>\n",
       "      <td>0.52</td>\n",
       "      <td>20.7</td>\n",
       "    </tr>\n",
       "    <tr>\n",
       "      <th>1</th>\n",
       "      <td>Alabama</td>\n",
       "      <td>1.00</td>\n",
       "      <td>19.2</td>\n",
       "      <td>1.00</td>\n",
       "      <td>19.1</td>\n",
       "      <td>1.00</td>\n",
       "      <td>18.9</td>\n",
       "    </tr>\n",
       "    <tr>\n",
       "      <th>2</th>\n",
       "      <td>Alaska</td>\n",
       "      <td>0.65</td>\n",
       "      <td>19.8</td>\n",
       "      <td>0.33</td>\n",
       "      <td>20.8</td>\n",
       "      <td>0.38</td>\n",
       "      <td>20.1</td>\n",
       "    </tr>\n",
       "    <tr>\n",
       "      <th>3</th>\n",
       "      <td>Arizona</td>\n",
       "      <td>0.62</td>\n",
       "      <td>19.7</td>\n",
       "      <td>0.66</td>\n",
       "      <td>19.2</td>\n",
       "      <td>0.73</td>\n",
       "      <td>19.0</td>\n",
       "    </tr>\n",
       "    <tr>\n",
       "      <th>4</th>\n",
       "      <td>Arkansas</td>\n",
       "      <td>1.00</td>\n",
       "      <td>19.4</td>\n",
       "      <td>1.00</td>\n",
       "      <td>19.4</td>\n",
       "      <td>1.00</td>\n",
       "      <td>19.3</td>\n",
       "    </tr>\n",
       "  </tbody>\n",
       "</table>\n",
       "</div>"
      ],
      "text/plain": [
       "      state  participation17 composite17  participation18  composite18  \\\n",
       "0  National             0.60        21.0              NaN          NaN   \n",
       "1   Alabama             1.00        19.2             1.00         19.1   \n",
       "2    Alaska             0.65        19.8             0.33         20.8   \n",
       "3   Arizona             0.62        19.7             0.66         19.2   \n",
       "4  Arkansas             1.00        19.4             1.00         19.4   \n",
       "\n",
       "   participation19  composite19  \n",
       "0             0.52         20.7  \n",
       "1             1.00         18.9  \n",
       "2             0.38         20.1  \n",
       "3             0.73         19.0  \n",
       "4             1.00         19.3  "
      ]
     },
     "execution_count": 33,
     "metadata": {},
     "output_type": "execute_result"
    }
   ],
   "source": [
    "acttotal.head()"
   ]
  },
  {
   "cell_type": "code",
   "execution_count": 34,
   "id": "9ac8e9ed",
   "metadata": {},
   "outputs": [
    {
     "data": {
      "text/html": [
       "<div>\n",
       "<style scoped>\n",
       "    .dataframe tbody tr th:only-of-type {\n",
       "        vertical-align: middle;\n",
       "    }\n",
       "\n",
       "    .dataframe tbody tr th {\n",
       "        vertical-align: top;\n",
       "    }\n",
       "\n",
       "    .dataframe thead th {\n",
       "        text-align: right;\n",
       "    }\n",
       "</style>\n",
       "<table border=\"1\" class=\"dataframe\">\n",
       "  <thead>\n",
       "    <tr style=\"text-align: right;\">\n",
       "      <th></th>\n",
       "      <th>state</th>\n",
       "      <th>participation17</th>\n",
       "      <th>ebrw17</th>\n",
       "      <th>math17</th>\n",
       "      <th>total17</th>\n",
       "      <th>participation18</th>\n",
       "      <th>ebrw18</th>\n",
       "      <th>math18</th>\n",
       "      <th>total18</th>\n",
       "      <th>participation19</th>\n",
       "      <th>ebrw19</th>\n",
       "      <th>math19</th>\n",
       "      <th>total19</th>\n",
       "    </tr>\n",
       "  </thead>\n",
       "  <tbody>\n",
       "    <tr>\n",
       "      <th>0</th>\n",
       "      <td>Alabama</td>\n",
       "      <td>0.05</td>\n",
       "      <td>593</td>\n",
       "      <td>572</td>\n",
       "      <td>1165</td>\n",
       "      <td>0.06</td>\n",
       "      <td>595</td>\n",
       "      <td>571</td>\n",
       "      <td>1166</td>\n",
       "      <td>0.07</td>\n",
       "      <td>583</td>\n",
       "      <td>560</td>\n",
       "      <td>1143</td>\n",
       "    </tr>\n",
       "    <tr>\n",
       "      <th>1</th>\n",
       "      <td>Alaska</td>\n",
       "      <td>0.38</td>\n",
       "      <td>547</td>\n",
       "      <td>533</td>\n",
       "      <td>1080</td>\n",
       "      <td>0.43</td>\n",
       "      <td>562</td>\n",
       "      <td>544</td>\n",
       "      <td>1106</td>\n",
       "      <td>0.41</td>\n",
       "      <td>556</td>\n",
       "      <td>541</td>\n",
       "      <td>1097</td>\n",
       "    </tr>\n",
       "    <tr>\n",
       "      <th>2</th>\n",
       "      <td>Arizona</td>\n",
       "      <td>0.30</td>\n",
       "      <td>563</td>\n",
       "      <td>553</td>\n",
       "      <td>1116</td>\n",
       "      <td>0.29</td>\n",
       "      <td>577</td>\n",
       "      <td>572</td>\n",
       "      <td>1149</td>\n",
       "      <td>0.31</td>\n",
       "      <td>569</td>\n",
       "      <td>565</td>\n",
       "      <td>1134</td>\n",
       "    </tr>\n",
       "    <tr>\n",
       "      <th>3</th>\n",
       "      <td>Arkansas</td>\n",
       "      <td>0.03</td>\n",
       "      <td>614</td>\n",
       "      <td>594</td>\n",
       "      <td>1208</td>\n",
       "      <td>0.05</td>\n",
       "      <td>592</td>\n",
       "      <td>576</td>\n",
       "      <td>1169</td>\n",
       "      <td>0.06</td>\n",
       "      <td>582</td>\n",
       "      <td>559</td>\n",
       "      <td>1141</td>\n",
       "    </tr>\n",
       "    <tr>\n",
       "      <th>4</th>\n",
       "      <td>California</td>\n",
       "      <td>0.53</td>\n",
       "      <td>531</td>\n",
       "      <td>524</td>\n",
       "      <td>1055</td>\n",
       "      <td>0.60</td>\n",
       "      <td>540</td>\n",
       "      <td>536</td>\n",
       "      <td>1076</td>\n",
       "      <td>0.63</td>\n",
       "      <td>534</td>\n",
       "      <td>531</td>\n",
       "      <td>1065</td>\n",
       "    </tr>\n",
       "  </tbody>\n",
       "</table>\n",
       "</div>"
      ],
      "text/plain": [
       "        state  participation17  ebrw17  math17  total17  participation18  \\\n",
       "0     Alabama             0.05     593     572     1165             0.06   \n",
       "1      Alaska             0.38     547     533     1080             0.43   \n",
       "2     Arizona             0.30     563     553     1116             0.29   \n",
       "3    Arkansas             0.03     614     594     1208             0.05   \n",
       "4  California             0.53     531     524     1055             0.60   \n",
       "\n",
       "   ebrw18  math18  total18  participation19  ebrw19  math19  total19  \n",
       "0     595     571     1166             0.07     583     560     1143  \n",
       "1     562     544     1106             0.41     556     541     1097  \n",
       "2     577     572     1149             0.31     569     565     1134  \n",
       "3     592     576     1169             0.06     582     559     1141  \n",
       "4     540     536     1076             0.63     534     531     1065  "
      ]
     },
     "execution_count": 34,
     "metadata": {},
     "output_type": "execute_result"
    }
   ],
   "source": [
    "sattotal.head()"
   ]
  },
  {
   "cell_type": "markdown",
   "id": "13a05612",
   "metadata": {},
   "source": [
    "##### Finding what's stopping composite17 from being read as a float datatype and correcting it"
   ]
  },
  {
   "cell_type": "code",
   "execution_count": 35,
   "id": "3a021e8e",
   "metadata": {},
   "outputs": [
    {
     "data": {
      "text/plain": [
       "0      21.0\n",
       "1      19.2\n",
       "2      19.8\n",
       "3      19.7\n",
       "4      19.4\n",
       "5      22.8\n",
       "6      20.8\n",
       "7      25.2\n",
       "8      24.1\n",
       "9      24.2\n",
       "10     19.8\n",
       "11     21.4\n",
       "12     19.0\n",
       "13     22.3\n",
       "14     21.4\n",
       "15     22.6\n",
       "16     21.9\n",
       "17     21.7\n",
       "18     20.0\n",
       "19     19.5\n",
       "20     24.3\n",
       "21     23.6\n",
       "22     25.4\n",
       "23     24.1\n",
       "24     21.5\n",
       "25     18.6\n",
       "26     20.4\n",
       "27     20.3\n",
       "28     21.4\n",
       "29     17.8\n",
       "30     25.5\n",
       "31     23.9\n",
       "32     19.7\n",
       "33     24.2\n",
       "34     19.1\n",
       "35     20.3\n",
       "36     22.0\n",
       "37     19.4\n",
       "38     21.8\n",
       "39     23.7\n",
       "40     24.0\n",
       "41     18.7\n",
       "42     21.8\n",
       "43     19.8\n",
       "44     20.7\n",
       "45     20.3\n",
       "46     23.6\n",
       "47     23.8\n",
       "48     21.9\n",
       "49     20.4\n",
       "50     20.5\n",
       "51    20.2x\n",
       "Name: composite17, dtype: object"
      ]
     },
     "execution_count": 35,
     "metadata": {},
     "output_type": "execute_result"
    }
   ],
   "source": [
    "acttotal['composite17']"
   ]
  },
  {
   "cell_type": "code",
   "execution_count": 36,
   "id": "235fdb07",
   "metadata": {},
   "outputs": [],
   "source": [
    "acttotal.at[51, 'composite17']='20.2'"
   ]
  },
  {
   "cell_type": "code",
   "execution_count": 37,
   "id": "e737a285",
   "metadata": {},
   "outputs": [],
   "source": [
    "acttotal['composite17'] = pd.to_numeric(acttotal['composite17'])"
   ]
  },
  {
   "cell_type": "code",
   "execution_count": 38,
   "id": "923ecf28",
   "metadata": {},
   "outputs": [
    {
     "data": {
      "text/plain": [
       "state               object\n",
       "participation17    float64\n",
       "composite17        float64\n",
       "participation18    float64\n",
       "composite18        float64\n",
       "participation19    float64\n",
       "composite19        float64\n",
       "dtype: object"
      ]
     },
     "execution_count": 38,
     "metadata": {},
     "output_type": "execute_result"
    }
   ],
   "source": [
    "acttotal[['composite17']]\n",
    "\n",
    "acttotal.dtypes"
   ]
  },
  {
   "cell_type": "markdown",
   "id": "8b234433",
   "metadata": {},
   "source": [
    "##### Using data from another website to create a dataset within pandas that ranks countries by GDP"
   ]
  },
  {
   "cell_type": "code",
   "execution_count": 39,
   "id": "0e46ae39",
   "metadata": {},
   "outputs": [],
   "source": [
    "STATEGDP19 = {'state':['District of Columbia', 'Massachusetts', 'New York', 'Alaska', 'North Dakota', 'California', 'Connecticut', 'Washington', 'Wyoming', 'Delaware', 'New Jersey', 'Maryland', 'Illinois', 'Texas', 'Colorado', 'Minnesota', 'Hawaii', 'New Hampshire', 'Virginia', 'Pennsylvania', 'Iowa', 'Kansas', \n",
    "                         'South Dakota', 'Oregon', 'Ohio', 'Wisconsin', 'Rhode Island', 'Louisiana', 'Utah', 'Oklahoma', 'Georgia', 'Nevada', 'Indiana', 'Vermont', 'North Carolina', 'Tennessee', 'Michigan', 'Missouri', 'New Mexico', 'Florida', 'Arizona', 'Montana', 'Maine', 'Kentucky', 'South Carolina', 'Alabama', 'Idaho', 'West Virginia', 'Arkansas', 'Mississippi', 'National'], \n",
    "                'gdp_rank_19':[1, 2, 3, 4, 5, 6 ,7 ,8, 9, 10, 11, 12, 13, 14, 15, 16, 17, 18, 19, 20, 21, 22, 23, 24, 25, 26, 27, 28, 29, 30, 31, 32, 33, 34, 35, 36, 37, 38, 39, 40, 41, 42, 43, 44, 45, 46, 47, 48, 49, 50, None]}\n",
    "GDPDF19 = pd.DataFrame(STATEGDP19)"
   ]
  },
  {
   "cell_type": "code",
   "execution_count": 40,
   "id": "f6e1e9aa",
   "metadata": {},
   "outputs": [
    {
     "data": {
      "text/html": [
       "<div>\n",
       "<style scoped>\n",
       "    .dataframe tbody tr th:only-of-type {\n",
       "        vertical-align: middle;\n",
       "    }\n",
       "\n",
       "    .dataframe tbody tr th {\n",
       "        vertical-align: top;\n",
       "    }\n",
       "\n",
       "    .dataframe thead th {\n",
       "        text-align: right;\n",
       "    }\n",
       "</style>\n",
       "<table border=\"1\" class=\"dataframe\">\n",
       "  <thead>\n",
       "    <tr style=\"text-align: right;\">\n",
       "      <th></th>\n",
       "      <th>state</th>\n",
       "      <th>gdp_rank_19</th>\n",
       "    </tr>\n",
       "  </thead>\n",
       "  <tbody>\n",
       "    <tr>\n",
       "      <th>0</th>\n",
       "      <td>District of Columbia</td>\n",
       "      <td>1.0</td>\n",
       "    </tr>\n",
       "    <tr>\n",
       "      <th>1</th>\n",
       "      <td>Massachusetts</td>\n",
       "      <td>2.0</td>\n",
       "    </tr>\n",
       "    <tr>\n",
       "      <th>2</th>\n",
       "      <td>New York</td>\n",
       "      <td>3.0</td>\n",
       "    </tr>\n",
       "    <tr>\n",
       "      <th>3</th>\n",
       "      <td>Alaska</td>\n",
       "      <td>4.0</td>\n",
       "    </tr>\n",
       "    <tr>\n",
       "      <th>4</th>\n",
       "      <td>North Dakota</td>\n",
       "      <td>5.0</td>\n",
       "    </tr>\n",
       "  </tbody>\n",
       "</table>\n",
       "</div>"
      ],
      "text/plain": [
       "                  state  gdp_rank_19\n",
       "0  District of Columbia          1.0\n",
       "1         Massachusetts          2.0\n",
       "2              New York          3.0\n",
       "3                Alaska          4.0\n",
       "4          North Dakota          5.0"
      ]
     },
     "execution_count": 40,
     "metadata": {},
     "output_type": "execute_result"
    }
   ],
   "source": [
    "GDPDF19.head()"
   ]
  },
  {
   "cell_type": "markdown",
   "id": "c5d70627",
   "metadata": {},
   "source": [
    "##### Making a dataframe (using outside information) that has all the states that has the SAT for free statewide in some capacity"
   ]
  },
  {
   "cell_type": "code",
   "execution_count": 41,
   "id": "38e43339",
   "metadata": {},
   "outputs": [],
   "source": [
    "satfree = {'state': ['Colorado', 'Connecticut', 'Delaware', 'District of Columbia', 'Idaho', 'Illinois', 'Maine', 'Michigan', 'New Hampshire', 'Rhode Island', 'West Virginia', 'Tennessee', 'South Carolina', 'Oklahoma', 'Ohio'],\n",
    "          'sat_free':[True, True, True, True, True, True, True, True, True, True, True, True, True, True, True]}\n",
    "satfree = pd.DataFrame(satfree)"
   ]
  },
  {
   "cell_type": "code",
   "execution_count": 42,
   "id": "016942b7",
   "metadata": {},
   "outputs": [
    {
     "data": {
      "text/html": [
       "<div>\n",
       "<style scoped>\n",
       "    .dataframe tbody tr th:only-of-type {\n",
       "        vertical-align: middle;\n",
       "    }\n",
       "\n",
       "    .dataframe tbody tr th {\n",
       "        vertical-align: top;\n",
       "    }\n",
       "\n",
       "    .dataframe thead th {\n",
       "        text-align: right;\n",
       "    }\n",
       "</style>\n",
       "<table border=\"1\" class=\"dataframe\">\n",
       "  <thead>\n",
       "    <tr style=\"text-align: right;\">\n",
       "      <th></th>\n",
       "      <th>state</th>\n",
       "      <th>sat_free</th>\n",
       "    </tr>\n",
       "  </thead>\n",
       "  <tbody>\n",
       "    <tr>\n",
       "      <th>0</th>\n",
       "      <td>Colorado</td>\n",
       "      <td>True</td>\n",
       "    </tr>\n",
       "    <tr>\n",
       "      <th>1</th>\n",
       "      <td>Connecticut</td>\n",
       "      <td>True</td>\n",
       "    </tr>\n",
       "    <tr>\n",
       "      <th>2</th>\n",
       "      <td>Delaware</td>\n",
       "      <td>True</td>\n",
       "    </tr>\n",
       "    <tr>\n",
       "      <th>3</th>\n",
       "      <td>District of Columbia</td>\n",
       "      <td>True</td>\n",
       "    </tr>\n",
       "    <tr>\n",
       "      <th>4</th>\n",
       "      <td>Idaho</td>\n",
       "      <td>True</td>\n",
       "    </tr>\n",
       "  </tbody>\n",
       "</table>\n",
       "</div>"
      ],
      "text/plain": [
       "                  state  sat_free\n",
       "0              Colorado      True\n",
       "1           Connecticut      True\n",
       "2              Delaware      True\n",
       "3  District of Columbia      True\n",
       "4                 Idaho      True"
      ]
     },
     "execution_count": 42,
     "metadata": {},
     "output_type": "execute_result"
    }
   ],
   "source": [
    "satfree.head()"
   ]
  },
  {
   "cell_type": "markdown",
   "id": "99ff5a1a",
   "metadata": {},
   "source": [
    "##### Making a dataframe (using outside information) that has all the states that has the ACT for free statewide in some capacity"
   ]
  },
  {
   "cell_type": "code",
   "execution_count": 43,
   "id": "55d5db97",
   "metadata": {},
   "outputs": [],
   "source": [
    "actfree = {'state': ['Hawaii', 'Kentucky', 'Louisiana', 'Nebraska', 'North Carolina', 'North Dakota', 'Ohio', 'Oklahoma', 'Tennessee', 'Wyoming', 'Alabama', 'Arkansas', 'Mississippi', 'Montana', 'South Carolina', 'Utah', 'Wisconsin'],\n",
    "           'act_free':[True, True, True, True, True, True, True, True, True, True, True, True, True, True, True, True, True]\n",
    "    }\n",
    "actfree = pd.DataFrame(actfree)"
   ]
  },
  {
   "cell_type": "code",
   "execution_count": 44,
   "id": "b5a1d910",
   "metadata": {},
   "outputs": [
    {
     "data": {
      "text/html": [
       "<div>\n",
       "<style scoped>\n",
       "    .dataframe tbody tr th:only-of-type {\n",
       "        vertical-align: middle;\n",
       "    }\n",
       "\n",
       "    .dataframe tbody tr th {\n",
       "        vertical-align: top;\n",
       "    }\n",
       "\n",
       "    .dataframe thead th {\n",
       "        text-align: right;\n",
       "    }\n",
       "</style>\n",
       "<table border=\"1\" class=\"dataframe\">\n",
       "  <thead>\n",
       "    <tr style=\"text-align: right;\">\n",
       "      <th></th>\n",
       "      <th>state</th>\n",
       "      <th>act_free</th>\n",
       "    </tr>\n",
       "  </thead>\n",
       "  <tbody>\n",
       "    <tr>\n",
       "      <th>0</th>\n",
       "      <td>Hawaii</td>\n",
       "      <td>True</td>\n",
       "    </tr>\n",
       "    <tr>\n",
       "      <th>1</th>\n",
       "      <td>Kentucky</td>\n",
       "      <td>True</td>\n",
       "    </tr>\n",
       "    <tr>\n",
       "      <th>2</th>\n",
       "      <td>Louisiana</td>\n",
       "      <td>True</td>\n",
       "    </tr>\n",
       "    <tr>\n",
       "      <th>3</th>\n",
       "      <td>Nebraska</td>\n",
       "      <td>True</td>\n",
       "    </tr>\n",
       "    <tr>\n",
       "      <th>4</th>\n",
       "      <td>North Carolina</td>\n",
       "      <td>True</td>\n",
       "    </tr>\n",
       "  </tbody>\n",
       "</table>\n",
       "</div>"
      ],
      "text/plain": [
       "            state  act_free\n",
       "0          Hawaii      True\n",
       "1        Kentucky      True\n",
       "2       Louisiana      True\n",
       "3        Nebraska      True\n",
       "4  North Carolina      True"
      ]
     },
     "execution_count": 44,
     "metadata": {},
     "output_type": "execute_result"
    }
   ],
   "source": [
    "actfree.head()"
   ]
  },
  {
   "cell_type": "markdown",
   "id": "7def8cca",
   "metadata": {},
   "source": [
    "##### Merging the acttotal and sattotal datasets with the gdp rankings"
   ]
  },
  {
   "cell_type": "code",
   "execution_count": 45,
   "id": "c1a76dd3",
   "metadata": {},
   "outputs": [],
   "source": [
    "sattotal = pd.merge(sattotal, GDPDF19, on='state')"
   ]
  },
  {
   "cell_type": "code",
   "execution_count": 46,
   "id": "c73249fa",
   "metadata": {},
   "outputs": [
    {
     "data": {
      "text/html": [
       "<div>\n",
       "<style scoped>\n",
       "    .dataframe tbody tr th:only-of-type {\n",
       "        vertical-align: middle;\n",
       "    }\n",
       "\n",
       "    .dataframe tbody tr th {\n",
       "        vertical-align: top;\n",
       "    }\n",
       "\n",
       "    .dataframe thead th {\n",
       "        text-align: right;\n",
       "    }\n",
       "</style>\n",
       "<table border=\"1\" class=\"dataframe\">\n",
       "  <thead>\n",
       "    <tr style=\"text-align: right;\">\n",
       "      <th></th>\n",
       "      <th>state</th>\n",
       "      <th>participation17</th>\n",
       "      <th>ebrw17</th>\n",
       "      <th>math17</th>\n",
       "      <th>total17</th>\n",
       "      <th>participation18</th>\n",
       "      <th>ebrw18</th>\n",
       "      <th>math18</th>\n",
       "      <th>total18</th>\n",
       "      <th>participation19</th>\n",
       "      <th>ebrw19</th>\n",
       "      <th>math19</th>\n",
       "      <th>total19</th>\n",
       "      <th>gdp_rank_19</th>\n",
       "    </tr>\n",
       "  </thead>\n",
       "  <tbody>\n",
       "    <tr>\n",
       "      <th>0</th>\n",
       "      <td>Alabama</td>\n",
       "      <td>0.05</td>\n",
       "      <td>593</td>\n",
       "      <td>572</td>\n",
       "      <td>1165</td>\n",
       "      <td>0.06</td>\n",
       "      <td>595</td>\n",
       "      <td>571</td>\n",
       "      <td>1166</td>\n",
       "      <td>0.07</td>\n",
       "      <td>583</td>\n",
       "      <td>560</td>\n",
       "      <td>1143</td>\n",
       "      <td>46.0</td>\n",
       "    </tr>\n",
       "    <tr>\n",
       "      <th>1</th>\n",
       "      <td>Alaska</td>\n",
       "      <td>0.38</td>\n",
       "      <td>547</td>\n",
       "      <td>533</td>\n",
       "      <td>1080</td>\n",
       "      <td>0.43</td>\n",
       "      <td>562</td>\n",
       "      <td>544</td>\n",
       "      <td>1106</td>\n",
       "      <td>0.41</td>\n",
       "      <td>556</td>\n",
       "      <td>541</td>\n",
       "      <td>1097</td>\n",
       "      <td>4.0</td>\n",
       "    </tr>\n",
       "    <tr>\n",
       "      <th>2</th>\n",
       "      <td>Arizona</td>\n",
       "      <td>0.30</td>\n",
       "      <td>563</td>\n",
       "      <td>553</td>\n",
       "      <td>1116</td>\n",
       "      <td>0.29</td>\n",
       "      <td>577</td>\n",
       "      <td>572</td>\n",
       "      <td>1149</td>\n",
       "      <td>0.31</td>\n",
       "      <td>569</td>\n",
       "      <td>565</td>\n",
       "      <td>1134</td>\n",
       "      <td>41.0</td>\n",
       "    </tr>\n",
       "    <tr>\n",
       "      <th>3</th>\n",
       "      <td>Arkansas</td>\n",
       "      <td>0.03</td>\n",
       "      <td>614</td>\n",
       "      <td>594</td>\n",
       "      <td>1208</td>\n",
       "      <td>0.05</td>\n",
       "      <td>592</td>\n",
       "      <td>576</td>\n",
       "      <td>1169</td>\n",
       "      <td>0.06</td>\n",
       "      <td>582</td>\n",
       "      <td>559</td>\n",
       "      <td>1141</td>\n",
       "      <td>49.0</td>\n",
       "    </tr>\n",
       "    <tr>\n",
       "      <th>4</th>\n",
       "      <td>California</td>\n",
       "      <td>0.53</td>\n",
       "      <td>531</td>\n",
       "      <td>524</td>\n",
       "      <td>1055</td>\n",
       "      <td>0.60</td>\n",
       "      <td>540</td>\n",
       "      <td>536</td>\n",
       "      <td>1076</td>\n",
       "      <td>0.63</td>\n",
       "      <td>534</td>\n",
       "      <td>531</td>\n",
       "      <td>1065</td>\n",
       "      <td>6.0</td>\n",
       "    </tr>\n",
       "  </tbody>\n",
       "</table>\n",
       "</div>"
      ],
      "text/plain": [
       "        state  participation17  ebrw17  math17  total17  participation18  \\\n",
       "0     Alabama             0.05     593     572     1165             0.06   \n",
       "1      Alaska             0.38     547     533     1080             0.43   \n",
       "2     Arizona             0.30     563     553     1116             0.29   \n",
       "3    Arkansas             0.03     614     594     1208             0.05   \n",
       "4  California             0.53     531     524     1055             0.60   \n",
       "\n",
       "   ebrw18  math18  total18  participation19  ebrw19  math19  total19  \\\n",
       "0     595     571     1166             0.07     583     560     1143   \n",
       "1     562     544     1106             0.41     556     541     1097   \n",
       "2     577     572     1149             0.31     569     565     1134   \n",
       "3     592     576     1169             0.06     582     559     1141   \n",
       "4     540     536     1076             0.63     534     531     1065   \n",
       "\n",
       "   gdp_rank_19  \n",
       "0         46.0  \n",
       "1          4.0  \n",
       "2         41.0  \n",
       "3         49.0  \n",
       "4          6.0  "
      ]
     },
     "execution_count": 46,
     "metadata": {},
     "output_type": "execute_result"
    }
   ],
   "source": [
    "sattotal.head()"
   ]
  },
  {
   "cell_type": "code",
   "execution_count": 47,
   "id": "e16aa5bb",
   "metadata": {},
   "outputs": [],
   "source": [
    "acttotal = pd.merge(acttotal, GDPDF19, on='state')"
   ]
  },
  {
   "cell_type": "code",
   "execution_count": 48,
   "id": "d3a3547a",
   "metadata": {},
   "outputs": [
    {
     "data": {
      "text/html": [
       "<div>\n",
       "<style scoped>\n",
       "    .dataframe tbody tr th:only-of-type {\n",
       "        vertical-align: middle;\n",
       "    }\n",
       "\n",
       "    .dataframe tbody tr th {\n",
       "        vertical-align: top;\n",
       "    }\n",
       "\n",
       "    .dataframe thead th {\n",
       "        text-align: right;\n",
       "    }\n",
       "</style>\n",
       "<table border=\"1\" class=\"dataframe\">\n",
       "  <thead>\n",
       "    <tr style=\"text-align: right;\">\n",
       "      <th></th>\n",
       "      <th>state</th>\n",
       "      <th>participation17</th>\n",
       "      <th>composite17</th>\n",
       "      <th>participation18</th>\n",
       "      <th>composite18</th>\n",
       "      <th>participation19</th>\n",
       "      <th>composite19</th>\n",
       "      <th>gdp_rank_19</th>\n",
       "    </tr>\n",
       "  </thead>\n",
       "  <tbody>\n",
       "    <tr>\n",
       "      <th>0</th>\n",
       "      <td>National</td>\n",
       "      <td>0.60</td>\n",
       "      <td>21.0</td>\n",
       "      <td>NaN</td>\n",
       "      <td>NaN</td>\n",
       "      <td>0.52</td>\n",
       "      <td>20.7</td>\n",
       "      <td>NaN</td>\n",
       "    </tr>\n",
       "    <tr>\n",
       "      <th>1</th>\n",
       "      <td>Alabama</td>\n",
       "      <td>1.00</td>\n",
       "      <td>19.2</td>\n",
       "      <td>1.00</td>\n",
       "      <td>19.1</td>\n",
       "      <td>1.00</td>\n",
       "      <td>18.9</td>\n",
       "      <td>46.0</td>\n",
       "    </tr>\n",
       "    <tr>\n",
       "      <th>2</th>\n",
       "      <td>Alaska</td>\n",
       "      <td>0.65</td>\n",
       "      <td>19.8</td>\n",
       "      <td>0.33</td>\n",
       "      <td>20.8</td>\n",
       "      <td>0.38</td>\n",
       "      <td>20.1</td>\n",
       "      <td>4.0</td>\n",
       "    </tr>\n",
       "    <tr>\n",
       "      <th>3</th>\n",
       "      <td>Arizona</td>\n",
       "      <td>0.62</td>\n",
       "      <td>19.7</td>\n",
       "      <td>0.66</td>\n",
       "      <td>19.2</td>\n",
       "      <td>0.73</td>\n",
       "      <td>19.0</td>\n",
       "      <td>41.0</td>\n",
       "    </tr>\n",
       "    <tr>\n",
       "      <th>4</th>\n",
       "      <td>Arkansas</td>\n",
       "      <td>1.00</td>\n",
       "      <td>19.4</td>\n",
       "      <td>1.00</td>\n",
       "      <td>19.4</td>\n",
       "      <td>1.00</td>\n",
       "      <td>19.3</td>\n",
       "      <td>49.0</td>\n",
       "    </tr>\n",
       "  </tbody>\n",
       "</table>\n",
       "</div>"
      ],
      "text/plain": [
       "      state  participation17  composite17  participation18  composite18  \\\n",
       "0  National             0.60         21.0              NaN          NaN   \n",
       "1   Alabama             1.00         19.2             1.00         19.1   \n",
       "2    Alaska             0.65         19.8             0.33         20.8   \n",
       "3   Arizona             0.62         19.7             0.66         19.2   \n",
       "4  Arkansas             1.00         19.4             1.00         19.4   \n",
       "\n",
       "   participation19  composite19  gdp_rank_19  \n",
       "0             0.52         20.7          NaN  \n",
       "1             1.00         18.9         46.0  \n",
       "2             0.38         20.1          4.0  \n",
       "3             0.73         19.0         41.0  \n",
       "4             1.00         19.3         49.0  "
      ]
     },
     "execution_count": 48,
     "metadata": {},
     "output_type": "execute_result"
    }
   ],
   "source": [
    "acttotal.head()"
   ]
  },
  {
   "cell_type": "code",
   "execution_count": 49,
   "id": "1a3c90ba",
   "metadata": {},
   "outputs": [
    {
     "data": {
      "text/plain": [
       "(50, 14)"
      ]
     },
     "execution_count": 49,
     "metadata": {},
     "output_type": "execute_result"
    }
   ],
   "source": [
    "sattotal.shape"
   ]
  },
  {
   "cell_type": "code",
   "execution_count": 50,
   "id": "7ef57a01",
   "metadata": {},
   "outputs": [
    {
     "data": {
      "text/plain": [
       "(51, 8)"
      ]
     },
     "execution_count": 50,
     "metadata": {},
     "output_type": "execute_result"
    }
   ],
   "source": [
    "acttotal.shape"
   ]
  },
  {
   "cell_type": "markdown",
   "id": "975fe840",
   "metadata": {},
   "source": [
    "#### Merging the sattotal and acttotal datasets with the free dataframes"
   ]
  },
  {
   "cell_type": "code",
   "execution_count": 51,
   "id": "6fe9d4bc",
   "metadata": {},
   "outputs": [],
   "source": [
    "sattotal = pd.merge(sattotal, satfree, on='state', how = 'left')"
   ]
  },
  {
   "cell_type": "code",
   "execution_count": 52,
   "id": "cbd79993",
   "metadata": {},
   "outputs": [
    {
     "data": {
      "text/html": [
       "<div>\n",
       "<style scoped>\n",
       "    .dataframe tbody tr th:only-of-type {\n",
       "        vertical-align: middle;\n",
       "    }\n",
       "\n",
       "    .dataframe tbody tr th {\n",
       "        vertical-align: top;\n",
       "    }\n",
       "\n",
       "    .dataframe thead th {\n",
       "        text-align: right;\n",
       "    }\n",
       "</style>\n",
       "<table border=\"1\" class=\"dataframe\">\n",
       "  <thead>\n",
       "    <tr style=\"text-align: right;\">\n",
       "      <th></th>\n",
       "      <th>state</th>\n",
       "      <th>participation17</th>\n",
       "      <th>ebrw17</th>\n",
       "      <th>math17</th>\n",
       "      <th>total17</th>\n",
       "      <th>participation18</th>\n",
       "      <th>ebrw18</th>\n",
       "      <th>math18</th>\n",
       "      <th>total18</th>\n",
       "      <th>participation19</th>\n",
       "      <th>ebrw19</th>\n",
       "      <th>math19</th>\n",
       "      <th>total19</th>\n",
       "      <th>gdp_rank_19</th>\n",
       "      <th>sat_free</th>\n",
       "    </tr>\n",
       "  </thead>\n",
       "  <tbody>\n",
       "    <tr>\n",
       "      <th>45</th>\n",
       "      <td>Virginia</td>\n",
       "      <td>0.65</td>\n",
       "      <td>561</td>\n",
       "      <td>541</td>\n",
       "      <td>1102</td>\n",
       "      <td>0.68</td>\n",
       "      <td>567</td>\n",
       "      <td>550</td>\n",
       "      <td>1117</td>\n",
       "      <td>0.68</td>\n",
       "      <td>567</td>\n",
       "      <td>551</td>\n",
       "      <td>1119</td>\n",
       "      <td>19.0</td>\n",
       "      <td>NaN</td>\n",
       "    </tr>\n",
       "    <tr>\n",
       "      <th>46</th>\n",
       "      <td>Washington</td>\n",
       "      <td>0.64</td>\n",
       "      <td>541</td>\n",
       "      <td>534</td>\n",
       "      <td>1075</td>\n",
       "      <td>0.69</td>\n",
       "      <td>543</td>\n",
       "      <td>538</td>\n",
       "      <td>1081</td>\n",
       "      <td>0.70</td>\n",
       "      <td>539</td>\n",
       "      <td>535</td>\n",
       "      <td>1074</td>\n",
       "      <td>8.0</td>\n",
       "      <td>NaN</td>\n",
       "    </tr>\n",
       "    <tr>\n",
       "      <th>47</th>\n",
       "      <td>West Virginia</td>\n",
       "      <td>0.14</td>\n",
       "      <td>558</td>\n",
       "      <td>528</td>\n",
       "      <td>1086</td>\n",
       "      <td>0.28</td>\n",
       "      <td>513</td>\n",
       "      <td>486</td>\n",
       "      <td>999</td>\n",
       "      <td>0.99</td>\n",
       "      <td>483</td>\n",
       "      <td>460</td>\n",
       "      <td>943</td>\n",
       "      <td>48.0</td>\n",
       "      <td>True</td>\n",
       "    </tr>\n",
       "    <tr>\n",
       "      <th>48</th>\n",
       "      <td>Wisconsin</td>\n",
       "      <td>0.03</td>\n",
       "      <td>642</td>\n",
       "      <td>649</td>\n",
       "      <td>1291</td>\n",
       "      <td>0.03</td>\n",
       "      <td>641</td>\n",
       "      <td>653</td>\n",
       "      <td>1294</td>\n",
       "      <td>0.03</td>\n",
       "      <td>635</td>\n",
       "      <td>648</td>\n",
       "      <td>1283</td>\n",
       "      <td>26.0</td>\n",
       "      <td>NaN</td>\n",
       "    </tr>\n",
       "    <tr>\n",
       "      <th>49</th>\n",
       "      <td>Wyoming</td>\n",
       "      <td>0.03</td>\n",
       "      <td>626</td>\n",
       "      <td>604</td>\n",
       "      <td>1230</td>\n",
       "      <td>0.03</td>\n",
       "      <td>633</td>\n",
       "      <td>625</td>\n",
       "      <td>1257</td>\n",
       "      <td>0.03</td>\n",
       "      <td>623</td>\n",
       "      <td>615</td>\n",
       "      <td>1238</td>\n",
       "      <td>9.0</td>\n",
       "      <td>NaN</td>\n",
       "    </tr>\n",
       "  </tbody>\n",
       "</table>\n",
       "</div>"
      ],
      "text/plain": [
       "            state  participation17  ebrw17  math17  total17  participation18  \\\n",
       "45       Virginia             0.65     561     541     1102             0.68   \n",
       "46     Washington             0.64     541     534     1075             0.69   \n",
       "47  West Virginia             0.14     558     528     1086             0.28   \n",
       "48      Wisconsin             0.03     642     649     1291             0.03   \n",
       "49        Wyoming             0.03     626     604     1230             0.03   \n",
       "\n",
       "    ebrw18  math18  total18  participation19  ebrw19  math19  total19  \\\n",
       "45     567     550     1117             0.68     567     551     1119   \n",
       "46     543     538     1081             0.70     539     535     1074   \n",
       "47     513     486      999             0.99     483     460      943   \n",
       "48     641     653     1294             0.03     635     648     1283   \n",
       "49     633     625     1257             0.03     623     615     1238   \n",
       "\n",
       "    gdp_rank_19 sat_free  \n",
       "45         19.0      NaN  \n",
       "46          8.0      NaN  \n",
       "47         48.0     True  \n",
       "48         26.0      NaN  \n",
       "49          9.0      NaN  "
      ]
     },
     "execution_count": 52,
     "metadata": {},
     "output_type": "execute_result"
    }
   ],
   "source": [
    "sattotal.tail()"
   ]
  },
  {
   "cell_type": "code",
   "execution_count": 53,
   "id": "1bd29865",
   "metadata": {},
   "outputs": [
    {
     "data": {
      "text/plain": [
       "(50, 15)"
      ]
     },
     "execution_count": 53,
     "metadata": {},
     "output_type": "execute_result"
    }
   ],
   "source": [
    "sattotal.shape"
   ]
  },
  {
   "cell_type": "code",
   "execution_count": 54,
   "id": "86a44208",
   "metadata": {},
   "outputs": [],
   "source": [
    "acttotal = pd.merge(acttotal, actfree, on='state', how = 'left')"
   ]
  },
  {
   "cell_type": "code",
   "execution_count": 55,
   "id": "9e225dd2",
   "metadata": {},
   "outputs": [
    {
     "data": {
      "text/html": [
       "<div>\n",
       "<style scoped>\n",
       "    .dataframe tbody tr th:only-of-type {\n",
       "        vertical-align: middle;\n",
       "    }\n",
       "\n",
       "    .dataframe tbody tr th {\n",
       "        vertical-align: top;\n",
       "    }\n",
       "\n",
       "    .dataframe thead th {\n",
       "        text-align: right;\n",
       "    }\n",
       "</style>\n",
       "<table border=\"1\" class=\"dataframe\">\n",
       "  <thead>\n",
       "    <tr style=\"text-align: right;\">\n",
       "      <th></th>\n",
       "      <th>state</th>\n",
       "      <th>participation17</th>\n",
       "      <th>composite17</th>\n",
       "      <th>participation18</th>\n",
       "      <th>composite18</th>\n",
       "      <th>participation19</th>\n",
       "      <th>composite19</th>\n",
       "      <th>gdp_rank_19</th>\n",
       "      <th>act_free</th>\n",
       "    </tr>\n",
       "  </thead>\n",
       "  <tbody>\n",
       "    <tr>\n",
       "      <th>0</th>\n",
       "      <td>National</td>\n",
       "      <td>0.60</td>\n",
       "      <td>21.0</td>\n",
       "      <td>NaN</td>\n",
       "      <td>NaN</td>\n",
       "      <td>0.52</td>\n",
       "      <td>20.7</td>\n",
       "      <td>NaN</td>\n",
       "      <td>NaN</td>\n",
       "    </tr>\n",
       "    <tr>\n",
       "      <th>1</th>\n",
       "      <td>Alabama</td>\n",
       "      <td>1.00</td>\n",
       "      <td>19.2</td>\n",
       "      <td>1.00</td>\n",
       "      <td>19.1</td>\n",
       "      <td>1.00</td>\n",
       "      <td>18.9</td>\n",
       "      <td>46.0</td>\n",
       "      <td>True</td>\n",
       "    </tr>\n",
       "    <tr>\n",
       "      <th>2</th>\n",
       "      <td>Alaska</td>\n",
       "      <td>0.65</td>\n",
       "      <td>19.8</td>\n",
       "      <td>0.33</td>\n",
       "      <td>20.8</td>\n",
       "      <td>0.38</td>\n",
       "      <td>20.1</td>\n",
       "      <td>4.0</td>\n",
       "      <td>NaN</td>\n",
       "    </tr>\n",
       "    <tr>\n",
       "      <th>3</th>\n",
       "      <td>Arizona</td>\n",
       "      <td>0.62</td>\n",
       "      <td>19.7</td>\n",
       "      <td>0.66</td>\n",
       "      <td>19.2</td>\n",
       "      <td>0.73</td>\n",
       "      <td>19.0</td>\n",
       "      <td>41.0</td>\n",
       "      <td>NaN</td>\n",
       "    </tr>\n",
       "    <tr>\n",
       "      <th>4</th>\n",
       "      <td>Arkansas</td>\n",
       "      <td>1.00</td>\n",
       "      <td>19.4</td>\n",
       "      <td>1.00</td>\n",
       "      <td>19.4</td>\n",
       "      <td>1.00</td>\n",
       "      <td>19.3</td>\n",
       "      <td>49.0</td>\n",
       "      <td>True</td>\n",
       "    </tr>\n",
       "  </tbody>\n",
       "</table>\n",
       "</div>"
      ],
      "text/plain": [
       "      state  participation17  composite17  participation18  composite18  \\\n",
       "0  National             0.60         21.0              NaN          NaN   \n",
       "1   Alabama             1.00         19.2             1.00         19.1   \n",
       "2    Alaska             0.65         19.8             0.33         20.8   \n",
       "3   Arizona             0.62         19.7             0.66         19.2   \n",
       "4  Arkansas             1.00         19.4             1.00         19.4   \n",
       "\n",
       "   participation19  composite19  gdp_rank_19 act_free  \n",
       "0             0.52         20.7          NaN      NaN  \n",
       "1             1.00         18.9         46.0     True  \n",
       "2             0.38         20.1          4.0      NaN  \n",
       "3             0.73         19.0         41.0      NaN  \n",
       "4             1.00         19.3         49.0     True  "
      ]
     },
     "execution_count": 55,
     "metadata": {},
     "output_type": "execute_result"
    }
   ],
   "source": [
    "acttotal.head()"
   ]
  },
  {
   "cell_type": "code",
   "execution_count": 56,
   "id": "0256713d",
   "metadata": {},
   "outputs": [
    {
     "data": {
      "text/plain": [
       "(51, 9)"
      ]
     },
     "execution_count": 56,
     "metadata": {},
     "output_type": "execute_result"
    }
   ],
   "source": [
    "acttotal.shape"
   ]
  },
  {
   "cell_type": "markdown",
   "id": "98e9ebfd",
   "metadata": {},
   "source": [
    "#### Defining a new function to turn the NaN values into False values"
   ]
  },
  {
   "cell_type": "code",
   "execution_count": 57,
   "id": "d1ffd286",
   "metadata": {},
   "outputs": [],
   "source": [
    "def clean_free(free_cell):\n",
    "    if free_cell != True:\n",
    "        return False\n",
    "    if free_cell == True:\n",
    "        return True"
   ]
  },
  {
   "cell_type": "code",
   "execution_count": 58,
   "id": "6bb5dd39",
   "metadata": {},
   "outputs": [],
   "source": [
    "acttotal['act_free'] = acttotal['act_free'].map(clean_free)"
   ]
  },
  {
   "cell_type": "code",
   "execution_count": 59,
   "id": "c2bdbd8a",
   "metadata": {},
   "outputs": [
    {
     "data": {
      "text/html": [
       "<div>\n",
       "<style scoped>\n",
       "    .dataframe tbody tr th:only-of-type {\n",
       "        vertical-align: middle;\n",
       "    }\n",
       "\n",
       "    .dataframe tbody tr th {\n",
       "        vertical-align: top;\n",
       "    }\n",
       "\n",
       "    .dataframe thead th {\n",
       "        text-align: right;\n",
       "    }\n",
       "</style>\n",
       "<table border=\"1\" class=\"dataframe\">\n",
       "  <thead>\n",
       "    <tr style=\"text-align: right;\">\n",
       "      <th></th>\n",
       "      <th>state</th>\n",
       "      <th>participation17</th>\n",
       "      <th>composite17</th>\n",
       "      <th>participation18</th>\n",
       "      <th>composite18</th>\n",
       "      <th>participation19</th>\n",
       "      <th>composite19</th>\n",
       "      <th>gdp_rank_19</th>\n",
       "      <th>act_free</th>\n",
       "    </tr>\n",
       "  </thead>\n",
       "  <tbody>\n",
       "    <tr>\n",
       "      <th>0</th>\n",
       "      <td>National</td>\n",
       "      <td>0.60</td>\n",
       "      <td>21.0</td>\n",
       "      <td>NaN</td>\n",
       "      <td>NaN</td>\n",
       "      <td>0.52</td>\n",
       "      <td>20.7</td>\n",
       "      <td>NaN</td>\n",
       "      <td>False</td>\n",
       "    </tr>\n",
       "    <tr>\n",
       "      <th>1</th>\n",
       "      <td>Alabama</td>\n",
       "      <td>1.00</td>\n",
       "      <td>19.2</td>\n",
       "      <td>1.00</td>\n",
       "      <td>19.1</td>\n",
       "      <td>1.00</td>\n",
       "      <td>18.9</td>\n",
       "      <td>46.0</td>\n",
       "      <td>True</td>\n",
       "    </tr>\n",
       "    <tr>\n",
       "      <th>2</th>\n",
       "      <td>Alaska</td>\n",
       "      <td>0.65</td>\n",
       "      <td>19.8</td>\n",
       "      <td>0.33</td>\n",
       "      <td>20.8</td>\n",
       "      <td>0.38</td>\n",
       "      <td>20.1</td>\n",
       "      <td>4.0</td>\n",
       "      <td>False</td>\n",
       "    </tr>\n",
       "    <tr>\n",
       "      <th>3</th>\n",
       "      <td>Arizona</td>\n",
       "      <td>0.62</td>\n",
       "      <td>19.7</td>\n",
       "      <td>0.66</td>\n",
       "      <td>19.2</td>\n",
       "      <td>0.73</td>\n",
       "      <td>19.0</td>\n",
       "      <td>41.0</td>\n",
       "      <td>False</td>\n",
       "    </tr>\n",
       "    <tr>\n",
       "      <th>4</th>\n",
       "      <td>Arkansas</td>\n",
       "      <td>1.00</td>\n",
       "      <td>19.4</td>\n",
       "      <td>1.00</td>\n",
       "      <td>19.4</td>\n",
       "      <td>1.00</td>\n",
       "      <td>19.3</td>\n",
       "      <td>49.0</td>\n",
       "      <td>True</td>\n",
       "    </tr>\n",
       "  </tbody>\n",
       "</table>\n",
       "</div>"
      ],
      "text/plain": [
       "      state  participation17  composite17  participation18  composite18  \\\n",
       "0  National             0.60         21.0              NaN          NaN   \n",
       "1   Alabama             1.00         19.2             1.00         19.1   \n",
       "2    Alaska             0.65         19.8             0.33         20.8   \n",
       "3   Arizona             0.62         19.7             0.66         19.2   \n",
       "4  Arkansas             1.00         19.4             1.00         19.4   \n",
       "\n",
       "   participation19  composite19  gdp_rank_19  act_free  \n",
       "0             0.52         20.7          NaN     False  \n",
       "1             1.00         18.9         46.0      True  \n",
       "2             0.38         20.1          4.0     False  \n",
       "3             0.73         19.0         41.0     False  \n",
       "4             1.00         19.3         49.0      True  "
      ]
     },
     "execution_count": 59,
     "metadata": {},
     "output_type": "execute_result"
    }
   ],
   "source": [
    "acttotal.head()"
   ]
  },
  {
   "cell_type": "code",
   "execution_count": 60,
   "id": "e9694f8e",
   "metadata": {},
   "outputs": [
    {
     "data": {
      "text/plain": [
       "state               object\n",
       "participation17    float64\n",
       "composite17        float64\n",
       "participation18    float64\n",
       "composite18        float64\n",
       "participation19    float64\n",
       "composite19        float64\n",
       "gdp_rank_19        float64\n",
       "act_free              bool\n",
       "dtype: object"
      ]
     },
     "execution_count": 60,
     "metadata": {},
     "output_type": "execute_result"
    }
   ],
   "source": [
    "acttotal.dtypes"
   ]
  },
  {
   "cell_type": "code",
   "execution_count": 61,
   "id": "382e65cf",
   "metadata": {},
   "outputs": [],
   "source": [
    "sattotal['sat_free'] = sattotal['sat_free'].map(clean_free)"
   ]
  },
  {
   "cell_type": "code",
   "execution_count": 62,
   "id": "e568ae01",
   "metadata": {},
   "outputs": [
    {
     "data": {
      "text/html": [
       "<div>\n",
       "<style scoped>\n",
       "    .dataframe tbody tr th:only-of-type {\n",
       "        vertical-align: middle;\n",
       "    }\n",
       "\n",
       "    .dataframe tbody tr th {\n",
       "        vertical-align: top;\n",
       "    }\n",
       "\n",
       "    .dataframe thead th {\n",
       "        text-align: right;\n",
       "    }\n",
       "</style>\n",
       "<table border=\"1\" class=\"dataframe\">\n",
       "  <thead>\n",
       "    <tr style=\"text-align: right;\">\n",
       "      <th></th>\n",
       "      <th>state</th>\n",
       "      <th>participation17</th>\n",
       "      <th>ebrw17</th>\n",
       "      <th>math17</th>\n",
       "      <th>total17</th>\n",
       "      <th>participation18</th>\n",
       "      <th>ebrw18</th>\n",
       "      <th>math18</th>\n",
       "      <th>total18</th>\n",
       "      <th>participation19</th>\n",
       "      <th>ebrw19</th>\n",
       "      <th>math19</th>\n",
       "      <th>total19</th>\n",
       "      <th>gdp_rank_19</th>\n",
       "      <th>sat_free</th>\n",
       "    </tr>\n",
       "  </thead>\n",
       "  <tbody>\n",
       "    <tr>\n",
       "      <th>45</th>\n",
       "      <td>Virginia</td>\n",
       "      <td>0.65</td>\n",
       "      <td>561</td>\n",
       "      <td>541</td>\n",
       "      <td>1102</td>\n",
       "      <td>0.68</td>\n",
       "      <td>567</td>\n",
       "      <td>550</td>\n",
       "      <td>1117</td>\n",
       "      <td>0.68</td>\n",
       "      <td>567</td>\n",
       "      <td>551</td>\n",
       "      <td>1119</td>\n",
       "      <td>19.0</td>\n",
       "      <td>False</td>\n",
       "    </tr>\n",
       "    <tr>\n",
       "      <th>46</th>\n",
       "      <td>Washington</td>\n",
       "      <td>0.64</td>\n",
       "      <td>541</td>\n",
       "      <td>534</td>\n",
       "      <td>1075</td>\n",
       "      <td>0.69</td>\n",
       "      <td>543</td>\n",
       "      <td>538</td>\n",
       "      <td>1081</td>\n",
       "      <td>0.70</td>\n",
       "      <td>539</td>\n",
       "      <td>535</td>\n",
       "      <td>1074</td>\n",
       "      <td>8.0</td>\n",
       "      <td>False</td>\n",
       "    </tr>\n",
       "    <tr>\n",
       "      <th>47</th>\n",
       "      <td>West Virginia</td>\n",
       "      <td>0.14</td>\n",
       "      <td>558</td>\n",
       "      <td>528</td>\n",
       "      <td>1086</td>\n",
       "      <td>0.28</td>\n",
       "      <td>513</td>\n",
       "      <td>486</td>\n",
       "      <td>999</td>\n",
       "      <td>0.99</td>\n",
       "      <td>483</td>\n",
       "      <td>460</td>\n",
       "      <td>943</td>\n",
       "      <td>48.0</td>\n",
       "      <td>True</td>\n",
       "    </tr>\n",
       "    <tr>\n",
       "      <th>48</th>\n",
       "      <td>Wisconsin</td>\n",
       "      <td>0.03</td>\n",
       "      <td>642</td>\n",
       "      <td>649</td>\n",
       "      <td>1291</td>\n",
       "      <td>0.03</td>\n",
       "      <td>641</td>\n",
       "      <td>653</td>\n",
       "      <td>1294</td>\n",
       "      <td>0.03</td>\n",
       "      <td>635</td>\n",
       "      <td>648</td>\n",
       "      <td>1283</td>\n",
       "      <td>26.0</td>\n",
       "      <td>False</td>\n",
       "    </tr>\n",
       "    <tr>\n",
       "      <th>49</th>\n",
       "      <td>Wyoming</td>\n",
       "      <td>0.03</td>\n",
       "      <td>626</td>\n",
       "      <td>604</td>\n",
       "      <td>1230</td>\n",
       "      <td>0.03</td>\n",
       "      <td>633</td>\n",
       "      <td>625</td>\n",
       "      <td>1257</td>\n",
       "      <td>0.03</td>\n",
       "      <td>623</td>\n",
       "      <td>615</td>\n",
       "      <td>1238</td>\n",
       "      <td>9.0</td>\n",
       "      <td>False</td>\n",
       "    </tr>\n",
       "  </tbody>\n",
       "</table>\n",
       "</div>"
      ],
      "text/plain": [
       "            state  participation17  ebrw17  math17  total17  participation18  \\\n",
       "45       Virginia             0.65     561     541     1102             0.68   \n",
       "46     Washington             0.64     541     534     1075             0.69   \n",
       "47  West Virginia             0.14     558     528     1086             0.28   \n",
       "48      Wisconsin             0.03     642     649     1291             0.03   \n",
       "49        Wyoming             0.03     626     604     1230             0.03   \n",
       "\n",
       "    ebrw18  math18  total18  participation19  ebrw19  math19  total19  \\\n",
       "45     567     550     1117             0.68     567     551     1119   \n",
       "46     543     538     1081             0.70     539     535     1074   \n",
       "47     513     486      999             0.99     483     460      943   \n",
       "48     641     653     1294             0.03     635     648     1283   \n",
       "49     633     625     1257             0.03     623     615     1238   \n",
       "\n",
       "    gdp_rank_19  sat_free  \n",
       "45         19.0     False  \n",
       "46          8.0     False  \n",
       "47         48.0      True  \n",
       "48         26.0     False  \n",
       "49          9.0     False  "
      ]
     },
     "execution_count": 62,
     "metadata": {},
     "output_type": "execute_result"
    }
   ],
   "source": [
    "sattotal.tail()"
   ]
  },
  {
   "cell_type": "code",
   "execution_count": 63,
   "id": "ee861981",
   "metadata": {},
   "outputs": [
    {
     "data": {
      "text/plain": [
       "state               object\n",
       "participation17    float64\n",
       "ebrw17               int64\n",
       "math17               int64\n",
       "total17              int64\n",
       "participation18    float64\n",
       "ebrw18               int64\n",
       "math18               int64\n",
       "total18              int64\n",
       "participation19    float64\n",
       "ebrw19               int64\n",
       "math19               int64\n",
       "total19              int64\n",
       "gdp_rank_19        float64\n",
       "sat_free              bool\n",
       "dtype: object"
      ]
     },
     "execution_count": 63,
     "metadata": {},
     "output_type": "execute_result"
    }
   ],
   "source": [
    "sattotal.dtypes"
   ]
  },
  {
   "cell_type": "markdown",
   "id": "65da474c",
   "metadata": {},
   "source": [
    "#### Adding the additional free column to the total datasets"
   ]
  },
  {
   "cell_type": "code",
   "execution_count": 64,
   "id": "7c4486d8",
   "metadata": {},
   "outputs": [],
   "source": [
    "acttotal = pd.merge(acttotal, satfree, on='state', how = 'left')"
   ]
  },
  {
   "cell_type": "code",
   "execution_count": 65,
   "id": "756d0565",
   "metadata": {},
   "outputs": [],
   "source": [
    "acttotal['sat_free'] = acttotal['sat_free'].map(clean_free)"
   ]
  },
  {
   "cell_type": "code",
   "execution_count": 66,
   "id": "a640e123",
   "metadata": {},
   "outputs": [
    {
     "data": {
      "text/html": [
       "<div>\n",
       "<style scoped>\n",
       "    .dataframe tbody tr th:only-of-type {\n",
       "        vertical-align: middle;\n",
       "    }\n",
       "\n",
       "    .dataframe tbody tr th {\n",
       "        vertical-align: top;\n",
       "    }\n",
       "\n",
       "    .dataframe thead th {\n",
       "        text-align: right;\n",
       "    }\n",
       "</style>\n",
       "<table border=\"1\" class=\"dataframe\">\n",
       "  <thead>\n",
       "    <tr style=\"text-align: right;\">\n",
       "      <th></th>\n",
       "      <th>state</th>\n",
       "      <th>participation17</th>\n",
       "      <th>composite17</th>\n",
       "      <th>participation18</th>\n",
       "      <th>composite18</th>\n",
       "      <th>participation19</th>\n",
       "      <th>composite19</th>\n",
       "      <th>gdp_rank_19</th>\n",
       "      <th>act_free</th>\n",
       "      <th>sat_free</th>\n",
       "    </tr>\n",
       "  </thead>\n",
       "  <tbody>\n",
       "    <tr>\n",
       "      <th>46</th>\n",
       "      <td>Virginia</td>\n",
       "      <td>0.29</td>\n",
       "      <td>23.8</td>\n",
       "      <td>0.24</td>\n",
       "      <td>23.9</td>\n",
       "      <td>0.21</td>\n",
       "      <td>24.0</td>\n",
       "      <td>19.0</td>\n",
       "      <td>False</td>\n",
       "      <td>False</td>\n",
       "    </tr>\n",
       "    <tr>\n",
       "      <th>47</th>\n",
       "      <td>Washington</td>\n",
       "      <td>0.29</td>\n",
       "      <td>21.9</td>\n",
       "      <td>0.24</td>\n",
       "      <td>22.2</td>\n",
       "      <td>0.24</td>\n",
       "      <td>22.1</td>\n",
       "      <td>8.0</td>\n",
       "      <td>False</td>\n",
       "      <td>False</td>\n",
       "    </tr>\n",
       "    <tr>\n",
       "      <th>48</th>\n",
       "      <td>West Virginia</td>\n",
       "      <td>0.69</td>\n",
       "      <td>20.4</td>\n",
       "      <td>0.65</td>\n",
       "      <td>20.3</td>\n",
       "      <td>0.49</td>\n",
       "      <td>20.8</td>\n",
       "      <td>48.0</td>\n",
       "      <td>False</td>\n",
       "      <td>True</td>\n",
       "    </tr>\n",
       "    <tr>\n",
       "      <th>49</th>\n",
       "      <td>Wisconsin</td>\n",
       "      <td>1.00</td>\n",
       "      <td>20.5</td>\n",
       "      <td>1.00</td>\n",
       "      <td>20.5</td>\n",
       "      <td>1.00</td>\n",
       "      <td>20.3</td>\n",
       "      <td>26.0</td>\n",
       "      <td>True</td>\n",
       "      <td>False</td>\n",
       "    </tr>\n",
       "    <tr>\n",
       "      <th>50</th>\n",
       "      <td>Wyoming</td>\n",
       "      <td>1.00</td>\n",
       "      <td>20.2</td>\n",
       "      <td>1.00</td>\n",
       "      <td>20.0</td>\n",
       "      <td>1.00</td>\n",
       "      <td>19.8</td>\n",
       "      <td>9.0</td>\n",
       "      <td>True</td>\n",
       "      <td>False</td>\n",
       "    </tr>\n",
       "  </tbody>\n",
       "</table>\n",
       "</div>"
      ],
      "text/plain": [
       "            state  participation17  composite17  participation18  composite18  \\\n",
       "46       Virginia             0.29         23.8             0.24         23.9   \n",
       "47     Washington             0.29         21.9             0.24         22.2   \n",
       "48  West Virginia             0.69         20.4             0.65         20.3   \n",
       "49      Wisconsin             1.00         20.5             1.00         20.5   \n",
       "50        Wyoming             1.00         20.2             1.00         20.0   \n",
       "\n",
       "    participation19  composite19  gdp_rank_19  act_free  sat_free  \n",
       "46             0.21         24.0         19.0     False     False  \n",
       "47             0.24         22.1          8.0     False     False  \n",
       "48             0.49         20.8         48.0     False      True  \n",
       "49             1.00         20.3         26.0      True     False  \n",
       "50             1.00         19.8          9.0      True     False  "
      ]
     },
     "execution_count": 66,
     "metadata": {},
     "output_type": "execute_result"
    }
   ],
   "source": [
    "acttotal.tail()"
   ]
  },
  {
   "cell_type": "code",
   "execution_count": 67,
   "id": "046e37dc",
   "metadata": {},
   "outputs": [
    {
     "data": {
      "text/plain": [
       "state               object\n",
       "participation17    float64\n",
       "composite17        float64\n",
       "participation18    float64\n",
       "composite18        float64\n",
       "participation19    float64\n",
       "composite19        float64\n",
       "gdp_rank_19        float64\n",
       "act_free              bool\n",
       "sat_free              bool\n",
       "dtype: object"
      ]
     },
     "execution_count": 67,
     "metadata": {},
     "output_type": "execute_result"
    }
   ],
   "source": [
    "acttotal.dtypes"
   ]
  },
  {
   "cell_type": "code",
   "execution_count": 68,
   "id": "25c846b7",
   "metadata": {},
   "outputs": [
    {
     "data": {
      "text/plain": [
       "(51, 10)"
      ]
     },
     "execution_count": 68,
     "metadata": {},
     "output_type": "execute_result"
    }
   ],
   "source": [
    "acttotal.shape"
   ]
  },
  {
   "cell_type": "code",
   "execution_count": 69,
   "id": "72b17245",
   "metadata": {},
   "outputs": [],
   "source": [
    "sattotal = pd.merge(sattotal, actfree, on='state', how = 'left')"
   ]
  },
  {
   "cell_type": "code",
   "execution_count": 70,
   "id": "e77ca7b9",
   "metadata": {},
   "outputs": [],
   "source": [
    "sattotal['act_free'] = sattotal['act_free'].map(clean_free)"
   ]
  },
  {
   "cell_type": "code",
   "execution_count": 71,
   "id": "4b1b5f54",
   "metadata": {},
   "outputs": [
    {
     "data": {
      "text/html": [
       "<div>\n",
       "<style scoped>\n",
       "    .dataframe tbody tr th:only-of-type {\n",
       "        vertical-align: middle;\n",
       "    }\n",
       "\n",
       "    .dataframe tbody tr th {\n",
       "        vertical-align: top;\n",
       "    }\n",
       "\n",
       "    .dataframe thead th {\n",
       "        text-align: right;\n",
       "    }\n",
       "</style>\n",
       "<table border=\"1\" class=\"dataframe\">\n",
       "  <thead>\n",
       "    <tr style=\"text-align: right;\">\n",
       "      <th></th>\n",
       "      <th>state</th>\n",
       "      <th>participation17</th>\n",
       "      <th>ebrw17</th>\n",
       "      <th>math17</th>\n",
       "      <th>total17</th>\n",
       "      <th>participation18</th>\n",
       "      <th>ebrw18</th>\n",
       "      <th>math18</th>\n",
       "      <th>total18</th>\n",
       "      <th>participation19</th>\n",
       "      <th>ebrw19</th>\n",
       "      <th>math19</th>\n",
       "      <th>total19</th>\n",
       "      <th>gdp_rank_19</th>\n",
       "      <th>sat_free</th>\n",
       "      <th>act_free</th>\n",
       "    </tr>\n",
       "  </thead>\n",
       "  <tbody>\n",
       "    <tr>\n",
       "      <th>0</th>\n",
       "      <td>Alabama</td>\n",
       "      <td>0.05</td>\n",
       "      <td>593</td>\n",
       "      <td>572</td>\n",
       "      <td>1165</td>\n",
       "      <td>0.06</td>\n",
       "      <td>595</td>\n",
       "      <td>571</td>\n",
       "      <td>1166</td>\n",
       "      <td>0.07</td>\n",
       "      <td>583</td>\n",
       "      <td>560</td>\n",
       "      <td>1143</td>\n",
       "      <td>46.0</td>\n",
       "      <td>False</td>\n",
       "      <td>True</td>\n",
       "    </tr>\n",
       "    <tr>\n",
       "      <th>1</th>\n",
       "      <td>Alaska</td>\n",
       "      <td>0.38</td>\n",
       "      <td>547</td>\n",
       "      <td>533</td>\n",
       "      <td>1080</td>\n",
       "      <td>0.43</td>\n",
       "      <td>562</td>\n",
       "      <td>544</td>\n",
       "      <td>1106</td>\n",
       "      <td>0.41</td>\n",
       "      <td>556</td>\n",
       "      <td>541</td>\n",
       "      <td>1097</td>\n",
       "      <td>4.0</td>\n",
       "      <td>False</td>\n",
       "      <td>False</td>\n",
       "    </tr>\n",
       "    <tr>\n",
       "      <th>2</th>\n",
       "      <td>Arizona</td>\n",
       "      <td>0.30</td>\n",
       "      <td>563</td>\n",
       "      <td>553</td>\n",
       "      <td>1116</td>\n",
       "      <td>0.29</td>\n",
       "      <td>577</td>\n",
       "      <td>572</td>\n",
       "      <td>1149</td>\n",
       "      <td>0.31</td>\n",
       "      <td>569</td>\n",
       "      <td>565</td>\n",
       "      <td>1134</td>\n",
       "      <td>41.0</td>\n",
       "      <td>False</td>\n",
       "      <td>False</td>\n",
       "    </tr>\n",
       "    <tr>\n",
       "      <th>3</th>\n",
       "      <td>Arkansas</td>\n",
       "      <td>0.03</td>\n",
       "      <td>614</td>\n",
       "      <td>594</td>\n",
       "      <td>1208</td>\n",
       "      <td>0.05</td>\n",
       "      <td>592</td>\n",
       "      <td>576</td>\n",
       "      <td>1169</td>\n",
       "      <td>0.06</td>\n",
       "      <td>582</td>\n",
       "      <td>559</td>\n",
       "      <td>1141</td>\n",
       "      <td>49.0</td>\n",
       "      <td>False</td>\n",
       "      <td>True</td>\n",
       "    </tr>\n",
       "    <tr>\n",
       "      <th>4</th>\n",
       "      <td>California</td>\n",
       "      <td>0.53</td>\n",
       "      <td>531</td>\n",
       "      <td>524</td>\n",
       "      <td>1055</td>\n",
       "      <td>0.60</td>\n",
       "      <td>540</td>\n",
       "      <td>536</td>\n",
       "      <td>1076</td>\n",
       "      <td>0.63</td>\n",
       "      <td>534</td>\n",
       "      <td>531</td>\n",
       "      <td>1065</td>\n",
       "      <td>6.0</td>\n",
       "      <td>False</td>\n",
       "      <td>False</td>\n",
       "    </tr>\n",
       "  </tbody>\n",
       "</table>\n",
       "</div>"
      ],
      "text/plain": [
       "        state  participation17  ebrw17  math17  total17  participation18  \\\n",
       "0     Alabama             0.05     593     572     1165             0.06   \n",
       "1      Alaska             0.38     547     533     1080             0.43   \n",
       "2     Arizona             0.30     563     553     1116             0.29   \n",
       "3    Arkansas             0.03     614     594     1208             0.05   \n",
       "4  California             0.53     531     524     1055             0.60   \n",
       "\n",
       "   ebrw18  math18  total18  participation19  ebrw19  math19  total19  \\\n",
       "0     595     571     1166             0.07     583     560     1143   \n",
       "1     562     544     1106             0.41     556     541     1097   \n",
       "2     577     572     1149             0.31     569     565     1134   \n",
       "3     592     576     1169             0.06     582     559     1141   \n",
       "4     540     536     1076             0.63     534     531     1065   \n",
       "\n",
       "   gdp_rank_19  sat_free  act_free  \n",
       "0         46.0     False      True  \n",
       "1          4.0     False     False  \n",
       "2         41.0     False     False  \n",
       "3         49.0     False      True  \n",
       "4          6.0     False     False  "
      ]
     },
     "execution_count": 71,
     "metadata": {},
     "output_type": "execute_result"
    }
   ],
   "source": [
    "sattotal.head()"
   ]
  },
  {
   "cell_type": "code",
   "execution_count": 72,
   "id": "6f963847",
   "metadata": {},
   "outputs": [
    {
     "data": {
      "text/plain": [
       "state               object\n",
       "participation17    float64\n",
       "ebrw17               int64\n",
       "math17               int64\n",
       "total17              int64\n",
       "participation18    float64\n",
       "ebrw18               int64\n",
       "math18               int64\n",
       "total18              int64\n",
       "participation19    float64\n",
       "ebrw19               int64\n",
       "math19               int64\n",
       "total19              int64\n",
       "gdp_rank_19        float64\n",
       "sat_free              bool\n",
       "act_free              bool\n",
       "dtype: object"
      ]
     },
     "execution_count": 72,
     "metadata": {},
     "output_type": "execute_result"
    }
   ],
   "source": [
    "sattotal.dtypes"
   ]
  },
  {
   "cell_type": "code",
   "execution_count": 73,
   "id": "c11e0e9c",
   "metadata": {},
   "outputs": [
    {
     "data": {
      "text/plain": [
       "(50, 16)"
      ]
     },
     "execution_count": 73,
     "metadata": {},
     "output_type": "execute_result"
    }
   ],
   "source": [
    "sattotal.shape"
   ]
  },
  {
   "cell_type": "markdown",
   "id": "6f680c23",
   "metadata": {},
   "source": [
    "### Importing an outside dataset that has population ranking data"
   ]
  },
  {
   "cell_type": "code",
   "execution_count": 74,
   "id": "ad4c87f3",
   "metadata": {},
   "outputs": [],
   "source": [
    "population = pd.read_csv('../data/PopulationcsvData.csv', usecols = [0,1])"
   ]
  },
  {
   "cell_type": "code",
   "execution_count": 75,
   "id": "fe7a53d6",
   "metadata": {},
   "outputs": [
    {
     "data": {
      "text/html": [
       "<div>\n",
       "<style scoped>\n",
       "    .dataframe tbody tr th:only-of-type {\n",
       "        vertical-align: middle;\n",
       "    }\n",
       "\n",
       "    .dataframe tbody tr th {\n",
       "        vertical-align: top;\n",
       "    }\n",
       "\n",
       "    .dataframe thead th {\n",
       "        text-align: right;\n",
       "    }\n",
       "</style>\n",
       "<table border=\"1\" class=\"dataframe\">\n",
       "  <thead>\n",
       "    <tr style=\"text-align: right;\">\n",
       "      <th></th>\n",
       "      <th>rank</th>\n",
       "      <th>State</th>\n",
       "    </tr>\n",
       "  </thead>\n",
       "  <tbody>\n",
       "    <tr>\n",
       "      <th>0</th>\n",
       "      <td>1</td>\n",
       "      <td>California</td>\n",
       "    </tr>\n",
       "    <tr>\n",
       "      <th>1</th>\n",
       "      <td>2</td>\n",
       "      <td>Texas</td>\n",
       "    </tr>\n",
       "    <tr>\n",
       "      <th>2</th>\n",
       "      <td>3</td>\n",
       "      <td>Florida</td>\n",
       "    </tr>\n",
       "    <tr>\n",
       "      <th>3</th>\n",
       "      <td>4</td>\n",
       "      <td>New York</td>\n",
       "    </tr>\n",
       "    <tr>\n",
       "      <th>4</th>\n",
       "      <td>5</td>\n",
       "      <td>Pennsylvania</td>\n",
       "    </tr>\n",
       "  </tbody>\n",
       "</table>\n",
       "</div>"
      ],
      "text/plain": [
       "   rank         State\n",
       "0     1    California\n",
       "1     2         Texas\n",
       "2     3       Florida\n",
       "3     4      New York\n",
       "4     5  Pennsylvania"
      ]
     },
     "execution_count": 75,
     "metadata": {},
     "output_type": "execute_result"
    }
   ],
   "source": [
    "population.head()"
   ]
  },
  {
   "cell_type": "markdown",
   "id": "5bd77850",
   "metadata": {},
   "source": [
    "##### Renaming the rank column to population_rank just to not confuse the column post-merge with GDPRank"
   ]
  },
  {
   "cell_type": "code",
   "execution_count": 76,
   "id": "235a130c",
   "metadata": {},
   "outputs": [],
   "source": [
    "population.rename(columns = {'State':'state', 'rank': 'population_rank'}, inplace = True)"
   ]
  },
  {
   "cell_type": "code",
   "execution_count": 77,
   "id": "d163af6d",
   "metadata": {},
   "outputs": [
    {
     "data": {
      "text/html": [
       "<div>\n",
       "<style scoped>\n",
       "    .dataframe tbody tr th:only-of-type {\n",
       "        vertical-align: middle;\n",
       "    }\n",
       "\n",
       "    .dataframe tbody tr th {\n",
       "        vertical-align: top;\n",
       "    }\n",
       "\n",
       "    .dataframe thead th {\n",
       "        text-align: right;\n",
       "    }\n",
       "</style>\n",
       "<table border=\"1\" class=\"dataframe\">\n",
       "  <thead>\n",
       "    <tr style=\"text-align: right;\">\n",
       "      <th></th>\n",
       "      <th>population_rank</th>\n",
       "      <th>state</th>\n",
       "    </tr>\n",
       "  </thead>\n",
       "  <tbody>\n",
       "    <tr>\n",
       "      <th>0</th>\n",
       "      <td>1</td>\n",
       "      <td>California</td>\n",
       "    </tr>\n",
       "    <tr>\n",
       "      <th>1</th>\n",
       "      <td>2</td>\n",
       "      <td>Texas</td>\n",
       "    </tr>\n",
       "    <tr>\n",
       "      <th>2</th>\n",
       "      <td>3</td>\n",
       "      <td>Florida</td>\n",
       "    </tr>\n",
       "    <tr>\n",
       "      <th>3</th>\n",
       "      <td>4</td>\n",
       "      <td>New York</td>\n",
       "    </tr>\n",
       "    <tr>\n",
       "      <th>4</th>\n",
       "      <td>5</td>\n",
       "      <td>Pennsylvania</td>\n",
       "    </tr>\n",
       "  </tbody>\n",
       "</table>\n",
       "</div>"
      ],
      "text/plain": [
       "   population_rank         state\n",
       "0                1    California\n",
       "1                2         Texas\n",
       "2                3       Florida\n",
       "3                4      New York\n",
       "4                5  Pennsylvania"
      ]
     },
     "execution_count": 77,
     "metadata": {},
     "output_type": "execute_result"
    }
   ],
   "source": [
    "population.head()"
   ]
  },
  {
   "cell_type": "markdown",
   "id": "890b6224",
   "metadata": {},
   "source": [
    "##### Dropping the state of Puerto Rico because it is not relevant to my analysis as neither total dataset is using Puerto Rico"
   ]
  },
  {
   "cell_type": "code",
   "execution_count": 78,
   "id": "b032ff20",
   "metadata": {},
   "outputs": [
    {
     "name": "stdout",
     "output_type": "stream",
     "text": [
      "['Puerto Rico']\n"
     ]
    }
   ],
   "source": [
    "statespopulation = population['state'].sort_values().values\n",
    "state_excluded(statespopulation)"
   ]
  },
  {
   "cell_type": "code",
   "execution_count": 79,
   "id": "09949f40",
   "metadata": {},
   "outputs": [
    {
     "data": {
      "text/html": [
       "<div>\n",
       "<style scoped>\n",
       "    .dataframe tbody tr th:only-of-type {\n",
       "        vertical-align: middle;\n",
       "    }\n",
       "\n",
       "    .dataframe tbody tr th {\n",
       "        vertical-align: top;\n",
       "    }\n",
       "\n",
       "    .dataframe thead th {\n",
       "        text-align: right;\n",
       "    }\n",
       "</style>\n",
       "<table border=\"1\" class=\"dataframe\">\n",
       "  <thead>\n",
       "    <tr style=\"text-align: right;\">\n",
       "      <th></th>\n",
       "      <th>population_rank</th>\n",
       "      <th>state</th>\n",
       "    </tr>\n",
       "  </thead>\n",
       "  <tbody>\n",
       "    <tr>\n",
       "      <th>30</th>\n",
       "      <td>31</td>\n",
       "      <td>Puerto Rico</td>\n",
       "    </tr>\n",
       "  </tbody>\n",
       "</table>\n",
       "</div>"
      ],
      "text/plain": [
       "    population_rank        state\n",
       "30               31  Puerto Rico"
      ]
     },
     "execution_count": 79,
     "metadata": {},
     "output_type": "execute_result"
    }
   ],
   "source": [
    "population.loc[population['state'] == 'Puerto Rico']"
   ]
  },
  {
   "cell_type": "code",
   "execution_count": 80,
   "id": "da62452e",
   "metadata": {},
   "outputs": [
    {
     "data": {
      "text/html": [
       "<div>\n",
       "<style scoped>\n",
       "    .dataframe tbody tr th:only-of-type {\n",
       "        vertical-align: middle;\n",
       "    }\n",
       "\n",
       "    .dataframe tbody tr th {\n",
       "        vertical-align: top;\n",
       "    }\n",
       "\n",
       "    .dataframe thead th {\n",
       "        text-align: right;\n",
       "    }\n",
       "</style>\n",
       "<table border=\"1\" class=\"dataframe\">\n",
       "  <thead>\n",
       "    <tr style=\"text-align: right;\">\n",
       "      <th></th>\n",
       "      <th>population_rank</th>\n",
       "      <th>state</th>\n",
       "    </tr>\n",
       "  </thead>\n",
       "  <tbody>\n",
       "  </tbody>\n",
       "</table>\n",
       "</div>"
      ],
      "text/plain": [
       "Empty DataFrame\n",
       "Columns: [population_rank, state]\n",
       "Index: []"
      ]
     },
     "execution_count": 80,
     "metadata": {},
     "output_type": "execute_result"
    }
   ],
   "source": [
    "population.drop([30], inplace = True)\n",
    "population.loc[population['state'] == 'Puerto Rico']"
   ]
  },
  {
   "cell_type": "markdown",
   "id": "706df3da",
   "metadata": {},
   "source": [
    "#### Creating and applying a function to fix the rankings and adjust them after Puerto Rico's removal"
   ]
  },
  {
   "cell_type": "code",
   "execution_count": 81,
   "id": "ca932529",
   "metadata": {},
   "outputs": [],
   "source": [
    "def state_fix(x):\n",
    "    if x > 31:\n",
    "        return x - 1\n",
    "    else:\n",
    "        return x"
   ]
  },
  {
   "cell_type": "code",
   "execution_count": 82,
   "id": "d204d0ac",
   "metadata": {},
   "outputs": [],
   "source": [
    "population['population_rank'] = population['population_rank'].map(state_fix)"
   ]
  },
  {
   "cell_type": "code",
   "execution_count": 83,
   "id": "56849bbc",
   "metadata": {},
   "outputs": [
    {
     "data": {
      "text/plain": [
       "<bound method NDFrame.tail of     population_rank                 state\n",
       "0                 1            California\n",
       "1                 2                 Texas\n",
       "2                 3               Florida\n",
       "3                 4              New York\n",
       "4                 5          Pennsylvania\n",
       "5                 6              Illinois\n",
       "6                 7                  Ohio\n",
       "7                 8               Georgia\n",
       "8                 9        North Carolina\n",
       "9                10              Michigan\n",
       "10               11            New Jersey\n",
       "11               12              Virginia\n",
       "12               13            Washington\n",
       "13               14               Arizona\n",
       "14               15             Tennessee\n",
       "15               16         Massachusetts\n",
       "16               17               Indiana\n",
       "17               18              Missouri\n",
       "18               19              Maryland\n",
       "19               20              Colorado\n",
       "20               21             Wisconsin\n",
       "21               22             Minnesota\n",
       "22               23        South Carolina\n",
       "23               24               Alabama\n",
       "24               25             Louisiana\n",
       "25               26              Kentucky\n",
       "26               27                Oregon\n",
       "27               28              Oklahoma\n",
       "28               29           Connecticut\n",
       "29               30                  Utah\n",
       "31               31                Nevada\n",
       "32               32                  Iowa\n",
       "33               33              Arkansas\n",
       "34               34           Mississippi\n",
       "35               35                Kansas\n",
       "36               36            New Mexico\n",
       "37               37              Nebraska\n",
       "38               38                 Idaho\n",
       "39               39         West Virginia\n",
       "40               40                Hawaii\n",
       "41               41         New Hampshire\n",
       "42               42                 Maine\n",
       "43               43               Montana\n",
       "44               44          Rhode Island\n",
       "45               45              Delaware\n",
       "46               46          South Dakota\n",
       "47               47          North Dakota\n",
       "48               48                Alaska\n",
       "49               49  District of Columbia\n",
       "50               50               Vermont\n",
       "51               51               Wyoming>"
      ]
     },
     "execution_count": 83,
     "metadata": {},
     "output_type": "execute_result"
    }
   ],
   "source": [
    "population.tail"
   ]
  },
  {
   "cell_type": "markdown",
   "id": "2c40d78f",
   "metadata": {},
   "source": [
    "#### Merging the population dataframe with the sattotal and acttotal datasets"
   ]
  },
  {
   "cell_type": "code",
   "execution_count": 84,
   "id": "fabbfa38",
   "metadata": {},
   "outputs": [],
   "source": [
    "acttotal = pd.merge(acttotal, population, on='state', how='left')"
   ]
  },
  {
   "cell_type": "code",
   "execution_count": 85,
   "id": "fbd9800b",
   "metadata": {},
   "outputs": [
    {
     "data": {
      "text/html": [
       "<div>\n",
       "<style scoped>\n",
       "    .dataframe tbody tr th:only-of-type {\n",
       "        vertical-align: middle;\n",
       "    }\n",
       "\n",
       "    .dataframe tbody tr th {\n",
       "        vertical-align: top;\n",
       "    }\n",
       "\n",
       "    .dataframe thead th {\n",
       "        text-align: right;\n",
       "    }\n",
       "</style>\n",
       "<table border=\"1\" class=\"dataframe\">\n",
       "  <thead>\n",
       "    <tr style=\"text-align: right;\">\n",
       "      <th></th>\n",
       "      <th>state</th>\n",
       "      <th>participation17</th>\n",
       "      <th>composite17</th>\n",
       "      <th>participation18</th>\n",
       "      <th>composite18</th>\n",
       "      <th>participation19</th>\n",
       "      <th>composite19</th>\n",
       "      <th>gdp_rank_19</th>\n",
       "      <th>act_free</th>\n",
       "      <th>sat_free</th>\n",
       "      <th>population_rank</th>\n",
       "    </tr>\n",
       "  </thead>\n",
       "  <tbody>\n",
       "    <tr>\n",
       "      <th>0</th>\n",
       "      <td>National</td>\n",
       "      <td>0.60</td>\n",
       "      <td>21.0</td>\n",
       "      <td>NaN</td>\n",
       "      <td>NaN</td>\n",
       "      <td>0.52</td>\n",
       "      <td>20.7</td>\n",
       "      <td>NaN</td>\n",
       "      <td>False</td>\n",
       "      <td>False</td>\n",
       "      <td>NaN</td>\n",
       "    </tr>\n",
       "    <tr>\n",
       "      <th>1</th>\n",
       "      <td>Alabama</td>\n",
       "      <td>1.00</td>\n",
       "      <td>19.2</td>\n",
       "      <td>1.00</td>\n",
       "      <td>19.1</td>\n",
       "      <td>1.00</td>\n",
       "      <td>18.9</td>\n",
       "      <td>46.0</td>\n",
       "      <td>True</td>\n",
       "      <td>False</td>\n",
       "      <td>24.0</td>\n",
       "    </tr>\n",
       "    <tr>\n",
       "      <th>2</th>\n",
       "      <td>Alaska</td>\n",
       "      <td>0.65</td>\n",
       "      <td>19.8</td>\n",
       "      <td>0.33</td>\n",
       "      <td>20.8</td>\n",
       "      <td>0.38</td>\n",
       "      <td>20.1</td>\n",
       "      <td>4.0</td>\n",
       "      <td>False</td>\n",
       "      <td>False</td>\n",
       "      <td>48.0</td>\n",
       "    </tr>\n",
       "    <tr>\n",
       "      <th>3</th>\n",
       "      <td>Arizona</td>\n",
       "      <td>0.62</td>\n",
       "      <td>19.7</td>\n",
       "      <td>0.66</td>\n",
       "      <td>19.2</td>\n",
       "      <td>0.73</td>\n",
       "      <td>19.0</td>\n",
       "      <td>41.0</td>\n",
       "      <td>False</td>\n",
       "      <td>False</td>\n",
       "      <td>14.0</td>\n",
       "    </tr>\n",
       "    <tr>\n",
       "      <th>4</th>\n",
       "      <td>Arkansas</td>\n",
       "      <td>1.00</td>\n",
       "      <td>19.4</td>\n",
       "      <td>1.00</td>\n",
       "      <td>19.4</td>\n",
       "      <td>1.00</td>\n",
       "      <td>19.3</td>\n",
       "      <td>49.0</td>\n",
       "      <td>True</td>\n",
       "      <td>False</td>\n",
       "      <td>33.0</td>\n",
       "    </tr>\n",
       "  </tbody>\n",
       "</table>\n",
       "</div>"
      ],
      "text/plain": [
       "      state  participation17  composite17  participation18  composite18  \\\n",
       "0  National             0.60         21.0              NaN          NaN   \n",
       "1   Alabama             1.00         19.2             1.00         19.1   \n",
       "2    Alaska             0.65         19.8             0.33         20.8   \n",
       "3   Arizona             0.62         19.7             0.66         19.2   \n",
       "4  Arkansas             1.00         19.4             1.00         19.4   \n",
       "\n",
       "   participation19  composite19  gdp_rank_19  act_free  sat_free  \\\n",
       "0             0.52         20.7          NaN     False     False   \n",
       "1             1.00         18.9         46.0      True     False   \n",
       "2             0.38         20.1          4.0     False     False   \n",
       "3             0.73         19.0         41.0     False     False   \n",
       "4             1.00         19.3         49.0      True     False   \n",
       "\n",
       "   population_rank  \n",
       "0              NaN  \n",
       "1             24.0  \n",
       "2             48.0  \n",
       "3             14.0  \n",
       "4             33.0  "
      ]
     },
     "execution_count": 85,
     "metadata": {},
     "output_type": "execute_result"
    }
   ],
   "source": [
    "acttotal.head()"
   ]
  },
  {
   "cell_type": "code",
   "execution_count": 86,
   "id": "3b6d1a58",
   "metadata": {},
   "outputs": [],
   "source": [
    "sattotal = pd.merge(sattotal, population, on='state', how='left')"
   ]
  },
  {
   "cell_type": "code",
   "execution_count": 87,
   "id": "4a53e228",
   "metadata": {},
   "outputs": [
    {
     "data": {
      "text/html": [
       "<div>\n",
       "<style scoped>\n",
       "    .dataframe tbody tr th:only-of-type {\n",
       "        vertical-align: middle;\n",
       "    }\n",
       "\n",
       "    .dataframe tbody tr th {\n",
       "        vertical-align: top;\n",
       "    }\n",
       "\n",
       "    .dataframe thead th {\n",
       "        text-align: right;\n",
       "    }\n",
       "</style>\n",
       "<table border=\"1\" class=\"dataframe\">\n",
       "  <thead>\n",
       "    <tr style=\"text-align: right;\">\n",
       "      <th></th>\n",
       "      <th>state</th>\n",
       "      <th>participation17</th>\n",
       "      <th>ebrw17</th>\n",
       "      <th>math17</th>\n",
       "      <th>total17</th>\n",
       "      <th>participation18</th>\n",
       "      <th>ebrw18</th>\n",
       "      <th>math18</th>\n",
       "      <th>total18</th>\n",
       "      <th>participation19</th>\n",
       "      <th>ebrw19</th>\n",
       "      <th>math19</th>\n",
       "      <th>total19</th>\n",
       "      <th>gdp_rank_19</th>\n",
       "      <th>sat_free</th>\n",
       "      <th>act_free</th>\n",
       "      <th>population_rank</th>\n",
       "    </tr>\n",
       "  </thead>\n",
       "  <tbody>\n",
       "    <tr>\n",
       "      <th>0</th>\n",
       "      <td>Alabama</td>\n",
       "      <td>0.05</td>\n",
       "      <td>593</td>\n",
       "      <td>572</td>\n",
       "      <td>1165</td>\n",
       "      <td>0.06</td>\n",
       "      <td>595</td>\n",
       "      <td>571</td>\n",
       "      <td>1166</td>\n",
       "      <td>0.07</td>\n",
       "      <td>583</td>\n",
       "      <td>560</td>\n",
       "      <td>1143</td>\n",
       "      <td>46.0</td>\n",
       "      <td>False</td>\n",
       "      <td>True</td>\n",
       "      <td>24</td>\n",
       "    </tr>\n",
       "    <tr>\n",
       "      <th>1</th>\n",
       "      <td>Alaska</td>\n",
       "      <td>0.38</td>\n",
       "      <td>547</td>\n",
       "      <td>533</td>\n",
       "      <td>1080</td>\n",
       "      <td>0.43</td>\n",
       "      <td>562</td>\n",
       "      <td>544</td>\n",
       "      <td>1106</td>\n",
       "      <td>0.41</td>\n",
       "      <td>556</td>\n",
       "      <td>541</td>\n",
       "      <td>1097</td>\n",
       "      <td>4.0</td>\n",
       "      <td>False</td>\n",
       "      <td>False</td>\n",
       "      <td>48</td>\n",
       "    </tr>\n",
       "    <tr>\n",
       "      <th>2</th>\n",
       "      <td>Arizona</td>\n",
       "      <td>0.30</td>\n",
       "      <td>563</td>\n",
       "      <td>553</td>\n",
       "      <td>1116</td>\n",
       "      <td>0.29</td>\n",
       "      <td>577</td>\n",
       "      <td>572</td>\n",
       "      <td>1149</td>\n",
       "      <td>0.31</td>\n",
       "      <td>569</td>\n",
       "      <td>565</td>\n",
       "      <td>1134</td>\n",
       "      <td>41.0</td>\n",
       "      <td>False</td>\n",
       "      <td>False</td>\n",
       "      <td>14</td>\n",
       "    </tr>\n",
       "    <tr>\n",
       "      <th>3</th>\n",
       "      <td>Arkansas</td>\n",
       "      <td>0.03</td>\n",
       "      <td>614</td>\n",
       "      <td>594</td>\n",
       "      <td>1208</td>\n",
       "      <td>0.05</td>\n",
       "      <td>592</td>\n",
       "      <td>576</td>\n",
       "      <td>1169</td>\n",
       "      <td>0.06</td>\n",
       "      <td>582</td>\n",
       "      <td>559</td>\n",
       "      <td>1141</td>\n",
       "      <td>49.0</td>\n",
       "      <td>False</td>\n",
       "      <td>True</td>\n",
       "      <td>33</td>\n",
       "    </tr>\n",
       "    <tr>\n",
       "      <th>4</th>\n",
       "      <td>California</td>\n",
       "      <td>0.53</td>\n",
       "      <td>531</td>\n",
       "      <td>524</td>\n",
       "      <td>1055</td>\n",
       "      <td>0.60</td>\n",
       "      <td>540</td>\n",
       "      <td>536</td>\n",
       "      <td>1076</td>\n",
       "      <td>0.63</td>\n",
       "      <td>534</td>\n",
       "      <td>531</td>\n",
       "      <td>1065</td>\n",
       "      <td>6.0</td>\n",
       "      <td>False</td>\n",
       "      <td>False</td>\n",
       "      <td>1</td>\n",
       "    </tr>\n",
       "  </tbody>\n",
       "</table>\n",
       "</div>"
      ],
      "text/plain": [
       "        state  participation17  ebrw17  math17  total17  participation18  \\\n",
       "0     Alabama             0.05     593     572     1165             0.06   \n",
       "1      Alaska             0.38     547     533     1080             0.43   \n",
       "2     Arizona             0.30     563     553     1116             0.29   \n",
       "3    Arkansas             0.03     614     594     1208             0.05   \n",
       "4  California             0.53     531     524     1055             0.60   \n",
       "\n",
       "   ebrw18  math18  total18  participation19  ebrw19  math19  total19  \\\n",
       "0     595     571     1166             0.07     583     560     1143   \n",
       "1     562     544     1106             0.41     556     541     1097   \n",
       "2     577     572     1149             0.31     569     565     1134   \n",
       "3     592     576     1169             0.06     582     559     1141   \n",
       "4     540     536     1076             0.63     534     531     1065   \n",
       "\n",
       "   gdp_rank_19  sat_free  act_free  population_rank  \n",
       "0         46.0     False      True               24  \n",
       "1          4.0     False     False               48  \n",
       "2         41.0     False     False               14  \n",
       "3         49.0     False      True               33  \n",
       "4          6.0     False     False                1  "
      ]
     },
     "execution_count": 87,
     "metadata": {},
     "output_type": "execute_result"
    }
   ],
   "source": [
    "sattotal.head()"
   ]
  },
  {
   "cell_type": "markdown",
   "id": "90373e32",
   "metadata": {},
   "source": [
    "#### Converting the datasets to CSV's to apply them in the analysis and visualization notebook"
   ]
  },
  {
   "cell_type": "code",
   "execution_count": 88,
   "id": "9a499815",
   "metadata": {},
   "outputs": [],
   "source": [
    "acttotal.to_csv('../data/cleaned_data/acttotalclean.csv')\n",
    "sattotal.to_csv('../data/cleaned_data/sattotalclean.csv')"
   ]
  },
  {
   "cell_type": "code",
   "execution_count": 89,
   "id": "6deca119",
   "metadata": {},
   "outputs": [],
   "source": [
    "act17.to_csv('../data/cleaned_data/act17newclean.csv')\n",
    "act18.to_csv('../data/cleaned_data/act18newclean.csv')\n",
    "act19.to_csv('../data/cleaned_data/act19newclean.csv')\n",
    "sat17.to_csv('../data/cleaned_data/sat17newclean.csv')\n",
    "sat18.to_csv('../data/cleaned_data/sat18newclean.csv')\n",
    "sat19.to_csv('../data/cleaned_data/sat19newclean.csv')"
   ]
  },
  {
   "cell_type": "code",
   "execution_count": 90,
   "id": "9d291b8a",
   "metadata": {},
   "outputs": [],
   "source": [
    "actfree.to_csv('../data/cleaned_data/actfreecols.csv')\n",
    "satfree.to_csv('../data/cleaned_data/satfreecols.csv')\n",
    "GDPDF19.to_csv('../data/cleaned_data/gdp2019rank.csv')\n",
    "population.to_csv('../data/cleaned_data/populationrank')"
   ]
  }
 ],
 "metadata": {
  "kernelspec": {
   "display_name": "Python 3",
   "language": "python",
   "name": "python3"
  },
  "language_info": {
   "codemirror_mode": {
    "name": "ipython",
    "version": 3
   },
   "file_extension": ".py",
   "mimetype": "text/x-python",
   "name": "python",
   "nbconvert_exporter": "python",
   "pygments_lexer": "ipython3",
   "version": "3.8.8"
  }
 },
 "nbformat": 4,
 "nbformat_minor": 5
}
